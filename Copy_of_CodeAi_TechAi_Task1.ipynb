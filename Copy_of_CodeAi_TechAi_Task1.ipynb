{
  "nbformat": 4,
  "nbformat_minor": 0,
  "metadata": {
    "colab": {
      "provenance": []
    },
    "kernelspec": {
      "name": "python3",
      "display_name": "Python 3"
    },
    "language_info": {
      "name": "python"
    }
  },
  "cells": [
    {
      "cell_type": "markdown",
      "source": [
        "# ***FOR DOING THE TASK MAKE THE COPY OF THIS COLLAB FILE IN YOUR DRIVE***"
      ],
      "metadata": {
        "id": "XnP1PxmLWjlC"
      }
    },
    {
      "cell_type": "markdown",
      "source": [
        "### 1. Python Basics & Control Structures\n",
        "\n",
        "*Task*:\n",
        "\n",
        "* Write a Python program that:\n",
        "\n",
        "  * Takes a list of strings (e.g., [\"apple\", \"banana\", \"grape\", \"kiwi\", \"orange\"]).\n",
        "  * Filters out fruits with more than 5 characters using a for loop and if statement.\n",
        "  * For each fruit, print its length.\n",
        "\n",
        "*Example Input*:\n",
        "\n",
        "python\n",
        "fruits = [\"apple\", \"banana\", \"grape\", \"kiwi\", \"orange\"]"
      ],
      "metadata": {
        "id": "RBNeAaOLxbe5"
      }
    },
    {
      "cell_type": "code",
      "execution_count": 12,
      "metadata": {
        "id": "NcI_p7F0vFhz",
        "colab": {
          "base_uri": "https://localhost:8080/"
        },
        "outputId": "bb9cd41c-438b-49c6-de2d-62cfb59d3026"
      },
      "outputs": [
        {
          "output_type": "stream",
          "name": "stdout",
          "text": [
            "Enter name of fruits (separate each name with a comma ',') : apple, banana, orange\n",
            "The fruit apple has 5 characters.\n",
            "The fruit banana has 6 characters.\n",
            "The fruit orange has 6 characters.\n"
          ]
        }
      ],
      "source": [
        "fruits = input(\"Enter name of fruits (separate each name with a comma ',') : \")\n",
        "fruits_list = fruits.strip().split(',')\n",
        "for fruit in fruits_list:\n",
        "  try:\n",
        "    fruit = fruit.strip()\n",
        "    fruit_len = len(fruit)\n",
        "    if fruit_len >= 5:\n",
        "      print(f\"The fruit {fruit} has {fruit_len} characters.\")\n",
        "  except Exception as e:\n",
        "    print(f\"Error: {e}\")"
      ]
    },
    {
      "cell_type": "markdown",
      "source": [
        "\n",
        "*Expected Output*:\n",
        "\n",
        "\n",
        "The fruit apple has 5 characters.\n",
        "\n",
        "The fruit banana has 6 characters.\n",
        "\n",
        "The fruit orange has 6 characters.\n"
      ],
      "metadata": {
        "id": "sQeiBzi9xjIl"
      }
    },
    {
      "cell_type": "markdown",
      "source": [
        "### 2. Functions & Lambda\n",
        "\n",
        "*Task*:\n",
        "\n",
        "* Write a function that takes a list of integers and a threshold value. Use a **lambda* function inside filter() to return a list of numbers greater than the threshold.\n",
        "\n",
        "\n",
        "  # Test the function with a list [1, 5, 10, 3, 8] and threshold 5\n",
        "\n",
        "\n",
        "\n",
        "\n"
      ],
      "metadata": {
        "id": "k12WGkNoyAgY"
      }
    },
    {
      "cell_type": "code",
      "source": [
        "nums = [1, 5, 10, 3, 8]\n",
        "filtered_nums = list(filter(lambda x : x > 5, nums))\n",
        "print(filtered_nums)"
      ],
      "metadata": {
        "id": "xSLokk2iy1OQ",
        "colab": {
          "base_uri": "https://localhost:8080/"
        },
        "outputId": "ac1628df-c41e-4251-b262-d03dfc1e544a"
      },
      "execution_count": 5,
      "outputs": [
        {
          "output_type": "stream",
          "name": "stdout",
          "text": [
            "[10, 8]\n"
          ]
        }
      ]
    },
    {
      "cell_type": "markdown",
      "source": [
        "### 3. Object-Oriented Programming (OOP)\n",
        "\n",
        "*Task*:\n",
        "\n",
        "* Implement a BankAccount class with methods for depositing, withdrawing, transferring, and checking balance.\n",
        "* Implement *Polymorphism* by overriding the __str__ method to provide a custom string representation of the account.\n",
        "\n",
        "\n",
        "# Example\n",
        "account_a = BankAccount(\"A123\", \"Alice\", 1000)\n",
        "\n",
        "account_b = BankAccount(\"B456\", \"Bob\", 500)\n",
        "\n",
        "account_a.deposit(200)\n",
        "\n",
        "account_a.transfer(300, account_b)\n"
      ],
      "metadata": {
        "id": "qFz4IBidxuK8"
      }
    },
    {
      "cell_type": "code",
      "source": [
        "class BankAccount:\n",
        "  def __init__(self, id, owner, balance):\n",
        "    self.id = id\n",
        "    self.owner = owner\n",
        "    self.balance = balance\n",
        "\n",
        "  def deposit(self, amt):\n",
        "    try:\n",
        "      if amt > 0:\n",
        "        self.balance += amt\n",
        "        print(f\"{amt} deposited. Total balance for {self.owner}: {self.balance}\")\n",
        "      else:\n",
        "        print(\"Invalid amount!\")\n",
        "    except Exception as e:\n",
        "      print(f\"Error: {e}\")\n",
        "\n",
        "  def withdraw(self, amt):\n",
        "    try:\n",
        "      if self.balance >= amt and amt > 0:\n",
        "        self.balance -= amt\n",
        "        print(f\"{amt} withdrawed from account. {self.balance} left for {self.owner}.\")\n",
        "      else:\n",
        "        print(\"Invalid amount or not enough balance!\")\n",
        "    except Exception as e:\n",
        "      print(f\"Error: {e}\")\n",
        "\n",
        "  def transfer(self, amt, account):\n",
        "    try:\n",
        "      if self.balance >= amt and amt > 0:\n",
        "        self.balance -= amt\n",
        "        account.deposit(amt)\n",
        "        print(f\"{amt} transferred to {account.owner}'s account. Balance left for {self.owner}: {self.balance}\")\n",
        "      else:\n",
        "        print(\"Invalid amount or not enough balance\")\n",
        "    except Exception as e:\n",
        "      print(f\"Error: {e}\")\n",
        "\n",
        "  def check_balance(self):\n",
        "    return self.balance\n",
        "\n",
        "account_a = BankAccount(\"A123\", \"Alice\", 1000)\n",
        "\n",
        "account_b = BankAccount(\"B456\", \"Bob\", 500)\n",
        "\n",
        "account_a.deposit(200)\n",
        "\n",
        "account_a.transfer(300, account_b)"
      ],
      "metadata": {
        "id": "nkl25hP8zWJQ",
        "colab": {
          "base_uri": "https://localhost:8080/"
        },
        "outputId": "a6efcede-be53-44f5-89e8-19a28b3412c8"
      },
      "execution_count": 21,
      "outputs": [
        {
          "output_type": "stream",
          "name": "stdout",
          "text": [
            "200 deposited. Total balance for Alice: 1200\n",
            "300 deposited. Total balance for Bob: 800\n",
            "300 transferred to Bob's account. Balance left for Alice: 900\n"
          ]
        }
      ]
    },
    {
      "cell_type": "markdown",
      "source": [
        "### 4. Exception Handling\n",
        "\n",
        "*Task*:\n",
        "\n",
        "* Write a divide_numbers(a, b) function with exception handling:\n",
        "\n",
        "  * Handle division by zero and invalid input (non-numeric values).\n",
        "\n",
        "\n",
        "# Test the function\n",
        "print(divide_numbers(10, 2))   # Valid input\n",
        "\n",
        "print(divide_numbers(10, 0))   # Division by zero\n",
        "\n",
        "print(divide_numbers(\"ten\", 2))  # Invalid input"
      ],
      "metadata": {
        "id": "R9op0Bt0xttt"
      }
    },
    {
      "cell_type": "code",
      "source": [
        "def divide_numbers(a, b):\n",
        "  try:\n",
        "    print(f\"dividing {a} by {b}\")\n",
        "    return a / b\n",
        "  except ZeroDivisionError:\n",
        "    return \"Cannot divide by zero\"\n",
        "  except TypeError:\n",
        "    return \"Invalid input, please enter numbers\"\n",
        "\n",
        "print(divide_numbers(10, 2)) # Valid input\n",
        "\n",
        "print(divide_numbers(10, 0)) # Division by zero\n",
        "\n",
        "print(divide_numbers(\"ten\", 2)) # Invalid input"
      ],
      "metadata": {
        "id": "DEZfXk4V0A8_",
        "colab": {
          "base_uri": "https://localhost:8080/"
        },
        "outputId": "6e8b7162-2933-4170-8d65-dafb025261f8"
      },
      "execution_count": 24,
      "outputs": [
        {
          "output_type": "stream",
          "name": "stdout",
          "text": [
            "dividing 10 by 2\n",
            "5.0\n",
            "dividing 10 by 0\n",
            "Cannot divide by zero\n",
            "dividing ten by 2\n",
            "Invalid input, please enter numbers\n"
          ]
        }
      ]
    },
    {
      "cell_type": "markdown",
      "source": [
        "*Example Expected Output*:\n",
        "\n",
        "\n",
        "5.0\n",
        "\n",
        "Cannot divide by zero\n",
        "\n",
        "Invalid input, please enter numbers"
      ],
      "metadata": {
        "id": "UAfaux4e0LsB"
      }
    },
    {
      "cell_type": "markdown",
      "source": [
        "### 5. Python Modules & File Handling\n",
        "\n",
        "*Task*:\n",
        "\n",
        "* Write a Python program to:\n",
        "\n",
        "  * Create a text file \"students.txt\" with student names and marks.\n",
        "  * Read the file and print names of students with marks above 80.\n",
        "\n",
        "\n",
        "\n",
        "\n"
      ],
      "metadata": {
        "id": "_zo-t7xZ0ayU"
      }
    },
    {
      "cell_type": "code",
      "source": [
        "students = open(\"students.txt\", \"w\")\n",
        "students.write(\"Alice 82\")\n",
        "students.write(\"\\n Bob 88\")\n",
        "students.write(\"\\n David 92\")\n",
        "students.write(\"\\n Sam 62\")\n",
        "students.write(\"\\n James 72\")\n",
        "students.close()\n",
        "\n",
        "try:\n",
        "  students = open(\"students.txt\", \"r\")\n",
        "  lines = students.readlines()\n",
        "  for line in lines:\n",
        "    data = line.split()\n",
        "    if len(data) == 2:\n",
        "      name, marks = data[0], data[1]\n",
        "      if int(marks) > 80:\n",
        "        print(name)\n",
        "  students.close()\n",
        "except FileNotFoundError:\n",
        "  print(\"File not found!\")\n",
        "except Exception as e:\n",
        "  print(f\"Error: {e}\")"
      ],
      "metadata": {
        "id": "kp3PLXuv0_cU",
        "colab": {
          "base_uri": "https://localhost:8080/"
        },
        "outputId": "9655752f-03fa-417b-ba82-db2c6b3b0a6f"
      },
      "execution_count": 23,
      "outputs": [
        {
          "output_type": "stream",
          "name": "stdout",
          "text": [
            "Alice\n",
            "Bob\n",
            "David\n"
          ]
        }
      ]
    },
    {
      "cell_type": "markdown",
      "source": [
        "\n",
        "*Expected Output*:\n",
        "\n",
        "\n",
        "Alice\n",
        "\n",
        "Bob\n",
        "\n",
        "David\n"
      ],
      "metadata": {
        "id": "BGTgVTJZ0_7b"
      }
    },
    {
      "cell_type": "markdown",
      "source": [
        "### 6. Regular Expressions\n",
        "\n",
        "*Task*:\n",
        "\n",
        "* Write a Python function extract_phone_numbers(text) that extracts all phone numbers from a given text. The phone numbers should be in the format (xxx) xxx-xxxx.\n",
        "\n",
        "\n",
        "sample_text = (\n",
        "    \"For any support regarding our Bangalore office, call us at +91-9876543210 between 9 AM to 6 PM. \"\n",
        "    \"If you are located in Mumbai, you can also reach our helpdesk at 9123456789 for urgent assistance. \"\n",
        "    \"Additionally, our Delhi branch can be contacted at +91-9988776655 during weekdays.\"\n",
        ")\n",
        "\n",
        "\n",
        "\n",
        "\n",
        "*Expected Output*:\n",
        "\n",
        "\n",
        "['+91-9876543210', '+91-9988776655']\n"
      ],
      "metadata": {
        "id": "buuDAsX_2ZEg"
      }
    },
    {
      "cell_type": "code",
      "source": [
        "import re\n",
        "sample_text = ( \"For any support regarding our Bangalore office, call us at +91-9876543210 between 9 AM to 6 PM. \" \"If you are located in Mumbai, you can also reach our helpdesk at 9123456789 for urgent assistance. \" \"Additionally, our Delhi branch can be contacted at +91-9988776655 during weekdays.\" )\n",
        "\n",
        "def extract_phone_numbers(text):\n",
        "  pattern = r'\\+\\d{2}-\\d{10}'\n",
        "  phone_numbers = re.findall(pattern, text)\n",
        "  return phone_numbers\n",
        "\n",
        "print(extract_phone_numbers(sample_text))"
      ],
      "metadata": {
        "id": "Nx0oXsT92Ytu",
        "colab": {
          "base_uri": "https://localhost:8080/"
        },
        "outputId": "15b48e2b-8c30-4450-eb27-a20b5afbbcf0"
      },
      "execution_count": 27,
      "outputs": [
        {
          "output_type": "stream",
          "name": "stdout",
          "text": [
            "['+91-9876543210', '+91-9988776655']\n"
          ]
        }
      ]
    },
    {
      "cell_type": "markdown",
      "source": [
        "\n",
        "*Expected Output*:\n",
        "\n",
        "\n",
        "['+91-9876543210', '+91-9988776655']"
      ],
      "metadata": {
        "id": "6uPEN50JQ4IP"
      }
    }
  ]
}