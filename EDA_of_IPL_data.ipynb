{
 "cells": [
  {
   "cell_type": "code",
   "execution_count": 1,
   "id": "76b83177-0add-415b-a389-c8e1d0670cc0",
   "metadata": {},
   "outputs": [],
   "source": [
    "import numpy as np\n",
    "import pandas as pd\n",
    "import matplotlib.pyplot as plt\n",
    "import seaborn as sns\n",
    "import plotly.express as px"
   ]
  },
  {
   "cell_type": "code",
   "execution_count": 2,
   "id": "371d6885-99e5-4966-843e-0811e6d45f26",
   "metadata": {},
   "outputs": [],
   "source": [
    "ipl_data = pd.read_csv('ipl_mens_2024_dataset.csv')"
   ]
  },
  {
   "cell_type": "markdown",
   "id": "9c39b07c-8899-4a26-a415-0d2eb0d844f6",
   "metadata": {},
   "source": [
    "# Getting familiar with the features of the dataset to clean and prepare dataset."
   ]
  },
  {
   "cell_type": "code",
   "execution_count": 3,
   "id": "7aff7df5-5500-44ba-9741-42935061baef",
   "metadata": {},
   "outputs": [
    {
     "data": {
      "text/html": [
       "<div>\n",
       "<style scoped>\n",
       "    .dataframe tbody tr th:only-of-type {\n",
       "        vertical-align: middle;\n",
       "    }\n",
       "\n",
       "    .dataframe tbody tr th {\n",
       "        vertical-align: top;\n",
       "    }\n",
       "\n",
       "    .dataframe thead th {\n",
       "        text-align: right;\n",
       "    }\n",
       "</style>\n",
       "<table border=\"1\" class=\"dataframe\">\n",
       "  <thead>\n",
       "    <tr style=\"text-align: right;\">\n",
       "      <th></th>\n",
       "      <th>matchId</th>\n",
       "      <th>inning</th>\n",
       "      <th>over_ball</th>\n",
       "      <th>over</th>\n",
       "      <th>ball</th>\n",
       "      <th>batting_team</th>\n",
       "      <th>bowling_team</th>\n",
       "      <th>batsman</th>\n",
       "      <th>non_striker</th>\n",
       "      <th>bowler</th>\n",
       "      <th>batsman_runs</th>\n",
       "      <th>extras</th>\n",
       "      <th>isWide</th>\n",
       "      <th>isNoBall</th>\n",
       "      <th>Byes</th>\n",
       "      <th>LegByes</th>\n",
       "      <th>Penalty</th>\n",
       "      <th>dismissal_kind</th>\n",
       "      <th>player_dismissed</th>\n",
       "      <th>date</th>\n",
       "    </tr>\n",
       "  </thead>\n",
       "  <tbody>\n",
       "    <tr>\n",
       "      <th>0</th>\n",
       "      <td>335982</td>\n",
       "      <td>1</td>\n",
       "      <td>0.1</td>\n",
       "      <td>0</td>\n",
       "      <td>1</td>\n",
       "      <td>Kolkata Knight Riders</td>\n",
       "      <td>Royal Challengers Bangalore</td>\n",
       "      <td>SC Ganguly</td>\n",
       "      <td>BB McCullum</td>\n",
       "      <td>P Kumar</td>\n",
       "      <td>0</td>\n",
       "      <td>1</td>\n",
       "      <td>NaN</td>\n",
       "      <td>NaN</td>\n",
       "      <td>NaN</td>\n",
       "      <td>1.0</td>\n",
       "      <td>NaN</td>\n",
       "      <td>NaN</td>\n",
       "      <td>NaN</td>\n",
       "      <td>2008-04-18</td>\n",
       "    </tr>\n",
       "    <tr>\n",
       "      <th>1</th>\n",
       "      <td>335982</td>\n",
       "      <td>1</td>\n",
       "      <td>0.2</td>\n",
       "      <td>0</td>\n",
       "      <td>2</td>\n",
       "      <td>Kolkata Knight Riders</td>\n",
       "      <td>Royal Challengers Bangalore</td>\n",
       "      <td>BB McCullum</td>\n",
       "      <td>SC Ganguly</td>\n",
       "      <td>P Kumar</td>\n",
       "      <td>0</td>\n",
       "      <td>0</td>\n",
       "      <td>NaN</td>\n",
       "      <td>NaN</td>\n",
       "      <td>NaN</td>\n",
       "      <td>NaN</td>\n",
       "      <td>NaN</td>\n",
       "      <td>NaN</td>\n",
       "      <td>NaN</td>\n",
       "      <td>2008-04-18</td>\n",
       "    </tr>\n",
       "    <tr>\n",
       "      <th>2</th>\n",
       "      <td>335982</td>\n",
       "      <td>1</td>\n",
       "      <td>0.3</td>\n",
       "      <td>0</td>\n",
       "      <td>3</td>\n",
       "      <td>Kolkata Knight Riders</td>\n",
       "      <td>Royal Challengers Bangalore</td>\n",
       "      <td>BB McCullum</td>\n",
       "      <td>SC Ganguly</td>\n",
       "      <td>P Kumar</td>\n",
       "      <td>0</td>\n",
       "      <td>1</td>\n",
       "      <td>1.0</td>\n",
       "      <td>NaN</td>\n",
       "      <td>NaN</td>\n",
       "      <td>NaN</td>\n",
       "      <td>NaN</td>\n",
       "      <td>NaN</td>\n",
       "      <td>NaN</td>\n",
       "      <td>2008-04-18</td>\n",
       "    </tr>\n",
       "    <tr>\n",
       "      <th>3</th>\n",
       "      <td>335982</td>\n",
       "      <td>1</td>\n",
       "      <td>0.4</td>\n",
       "      <td>0</td>\n",
       "      <td>4</td>\n",
       "      <td>Kolkata Knight Riders</td>\n",
       "      <td>Royal Challengers Bangalore</td>\n",
       "      <td>BB McCullum</td>\n",
       "      <td>SC Ganguly</td>\n",
       "      <td>P Kumar</td>\n",
       "      <td>0</td>\n",
       "      <td>0</td>\n",
       "      <td>NaN</td>\n",
       "      <td>NaN</td>\n",
       "      <td>NaN</td>\n",
       "      <td>NaN</td>\n",
       "      <td>NaN</td>\n",
       "      <td>NaN</td>\n",
       "      <td>NaN</td>\n",
       "      <td>2008-04-18</td>\n",
       "    </tr>\n",
       "    <tr>\n",
       "      <th>4</th>\n",
       "      <td>335982</td>\n",
       "      <td>1</td>\n",
       "      <td>0.5</td>\n",
       "      <td>0</td>\n",
       "      <td>5</td>\n",
       "      <td>Kolkata Knight Riders</td>\n",
       "      <td>Royal Challengers Bangalore</td>\n",
       "      <td>BB McCullum</td>\n",
       "      <td>SC Ganguly</td>\n",
       "      <td>P Kumar</td>\n",
       "      <td>0</td>\n",
       "      <td>0</td>\n",
       "      <td>NaN</td>\n",
       "      <td>NaN</td>\n",
       "      <td>NaN</td>\n",
       "      <td>NaN</td>\n",
       "      <td>NaN</td>\n",
       "      <td>NaN</td>\n",
       "      <td>NaN</td>\n",
       "      <td>2008-04-18</td>\n",
       "    </tr>\n",
       "    <tr>\n",
       "      <th>5</th>\n",
       "      <td>335982</td>\n",
       "      <td>1</td>\n",
       "      <td>0.6</td>\n",
       "      <td>0</td>\n",
       "      <td>6</td>\n",
       "      <td>Kolkata Knight Riders</td>\n",
       "      <td>Royal Challengers Bangalore</td>\n",
       "      <td>BB McCullum</td>\n",
       "      <td>SC Ganguly</td>\n",
       "      <td>P Kumar</td>\n",
       "      <td>0</td>\n",
       "      <td>0</td>\n",
       "      <td>NaN</td>\n",
       "      <td>NaN</td>\n",
       "      <td>NaN</td>\n",
       "      <td>NaN</td>\n",
       "      <td>NaN</td>\n",
       "      <td>NaN</td>\n",
       "      <td>NaN</td>\n",
       "      <td>2008-04-18</td>\n",
       "    </tr>\n",
       "    <tr>\n",
       "      <th>6</th>\n",
       "      <td>335982</td>\n",
       "      <td>1</td>\n",
       "      <td>0.7</td>\n",
       "      <td>0</td>\n",
       "      <td>7</td>\n",
       "      <td>Kolkata Knight Riders</td>\n",
       "      <td>Royal Challengers Bangalore</td>\n",
       "      <td>BB McCullum</td>\n",
       "      <td>SC Ganguly</td>\n",
       "      <td>P Kumar</td>\n",
       "      <td>0</td>\n",
       "      <td>1</td>\n",
       "      <td>NaN</td>\n",
       "      <td>NaN</td>\n",
       "      <td>NaN</td>\n",
       "      <td>1.0</td>\n",
       "      <td>NaN</td>\n",
       "      <td>NaN</td>\n",
       "      <td>NaN</td>\n",
       "      <td>2008-04-18</td>\n",
       "    </tr>\n",
       "    <tr>\n",
       "      <th>7</th>\n",
       "      <td>335982</td>\n",
       "      <td>1</td>\n",
       "      <td>1.1</td>\n",
       "      <td>1</td>\n",
       "      <td>1</td>\n",
       "      <td>Kolkata Knight Riders</td>\n",
       "      <td>Royal Challengers Bangalore</td>\n",
       "      <td>BB McCullum</td>\n",
       "      <td>SC Ganguly</td>\n",
       "      <td>Z Khan</td>\n",
       "      <td>0</td>\n",
       "      <td>0</td>\n",
       "      <td>NaN</td>\n",
       "      <td>NaN</td>\n",
       "      <td>NaN</td>\n",
       "      <td>NaN</td>\n",
       "      <td>NaN</td>\n",
       "      <td>NaN</td>\n",
       "      <td>NaN</td>\n",
       "      <td>2008-04-18</td>\n",
       "    </tr>\n",
       "    <tr>\n",
       "      <th>8</th>\n",
       "      <td>335982</td>\n",
       "      <td>1</td>\n",
       "      <td>1.2</td>\n",
       "      <td>1</td>\n",
       "      <td>2</td>\n",
       "      <td>Kolkata Knight Riders</td>\n",
       "      <td>Royal Challengers Bangalore</td>\n",
       "      <td>BB McCullum</td>\n",
       "      <td>SC Ganguly</td>\n",
       "      <td>Z Khan</td>\n",
       "      <td>4</td>\n",
       "      <td>0</td>\n",
       "      <td>NaN</td>\n",
       "      <td>NaN</td>\n",
       "      <td>NaN</td>\n",
       "      <td>NaN</td>\n",
       "      <td>NaN</td>\n",
       "      <td>NaN</td>\n",
       "      <td>NaN</td>\n",
       "      <td>2008-04-18</td>\n",
       "    </tr>\n",
       "    <tr>\n",
       "      <th>9</th>\n",
       "      <td>335982</td>\n",
       "      <td>1</td>\n",
       "      <td>1.3</td>\n",
       "      <td>1</td>\n",
       "      <td>3</td>\n",
       "      <td>Kolkata Knight Riders</td>\n",
       "      <td>Royal Challengers Bangalore</td>\n",
       "      <td>BB McCullum</td>\n",
       "      <td>SC Ganguly</td>\n",
       "      <td>Z Khan</td>\n",
       "      <td>4</td>\n",
       "      <td>0</td>\n",
       "      <td>NaN</td>\n",
       "      <td>NaN</td>\n",
       "      <td>NaN</td>\n",
       "      <td>NaN</td>\n",
       "      <td>NaN</td>\n",
       "      <td>NaN</td>\n",
       "      <td>NaN</td>\n",
       "      <td>2008-04-18</td>\n",
       "    </tr>\n",
       "  </tbody>\n",
       "</table>\n",
       "</div>"
      ],
      "text/plain": [
       "   matchId  inning  over_ball  over  ball           batting_team  \\\n",
       "0   335982       1        0.1     0     1  Kolkata Knight Riders   \n",
       "1   335982       1        0.2     0     2  Kolkata Knight Riders   \n",
       "2   335982       1        0.3     0     3  Kolkata Knight Riders   \n",
       "3   335982       1        0.4     0     4  Kolkata Knight Riders   \n",
       "4   335982       1        0.5     0     5  Kolkata Knight Riders   \n",
       "5   335982       1        0.6     0     6  Kolkata Knight Riders   \n",
       "6   335982       1        0.7     0     7  Kolkata Knight Riders   \n",
       "7   335982       1        1.1     1     1  Kolkata Knight Riders   \n",
       "8   335982       1        1.2     1     2  Kolkata Knight Riders   \n",
       "9   335982       1        1.3     1     3  Kolkata Knight Riders   \n",
       "\n",
       "                  bowling_team      batsman  non_striker   bowler  \\\n",
       "0  Royal Challengers Bangalore   SC Ganguly  BB McCullum  P Kumar   \n",
       "1  Royal Challengers Bangalore  BB McCullum   SC Ganguly  P Kumar   \n",
       "2  Royal Challengers Bangalore  BB McCullum   SC Ganguly  P Kumar   \n",
       "3  Royal Challengers Bangalore  BB McCullum   SC Ganguly  P Kumar   \n",
       "4  Royal Challengers Bangalore  BB McCullum   SC Ganguly  P Kumar   \n",
       "5  Royal Challengers Bangalore  BB McCullum   SC Ganguly  P Kumar   \n",
       "6  Royal Challengers Bangalore  BB McCullum   SC Ganguly  P Kumar   \n",
       "7  Royal Challengers Bangalore  BB McCullum   SC Ganguly   Z Khan   \n",
       "8  Royal Challengers Bangalore  BB McCullum   SC Ganguly   Z Khan   \n",
       "9  Royal Challengers Bangalore  BB McCullum   SC Ganguly   Z Khan   \n",
       "\n",
       "   batsman_runs  extras  isWide  isNoBall  Byes  LegByes  Penalty  \\\n",
       "0             0       1     NaN       NaN   NaN      1.0      NaN   \n",
       "1             0       0     NaN       NaN   NaN      NaN      NaN   \n",
       "2             0       1     1.0       NaN   NaN      NaN      NaN   \n",
       "3             0       0     NaN       NaN   NaN      NaN      NaN   \n",
       "4             0       0     NaN       NaN   NaN      NaN      NaN   \n",
       "5             0       0     NaN       NaN   NaN      NaN      NaN   \n",
       "6             0       1     NaN       NaN   NaN      1.0      NaN   \n",
       "7             0       0     NaN       NaN   NaN      NaN      NaN   \n",
       "8             4       0     NaN       NaN   NaN      NaN      NaN   \n",
       "9             4       0     NaN       NaN   NaN      NaN      NaN   \n",
       "\n",
       "  dismissal_kind player_dismissed        date  \n",
       "0            NaN              NaN  2008-04-18  \n",
       "1            NaN              NaN  2008-04-18  \n",
       "2            NaN              NaN  2008-04-18  \n",
       "3            NaN              NaN  2008-04-18  \n",
       "4            NaN              NaN  2008-04-18  \n",
       "5            NaN              NaN  2008-04-18  \n",
       "6            NaN              NaN  2008-04-18  \n",
       "7            NaN              NaN  2008-04-18  \n",
       "8            NaN              NaN  2008-04-18  \n",
       "9            NaN              NaN  2008-04-18  "
      ]
     },
     "execution_count": 3,
     "metadata": {},
     "output_type": "execute_result"
    }
   ],
   "source": [
    "ipl_data.head(10)"
   ]
  },
  {
   "cell_type": "code",
   "execution_count": 4,
   "id": "ae2f3768-0eac-4cd7-b2fd-89048872e984",
   "metadata": {},
   "outputs": [
    {
     "data": {
      "text/plain": [
       "(260920, 20)"
      ]
     },
     "execution_count": 4,
     "metadata": {},
     "output_type": "execute_result"
    }
   ],
   "source": [
    "ipl_data.shape"
   ]
  },
  {
   "cell_type": "code",
   "execution_count": 5,
   "id": "43fdd31d-023b-4c5d-a2a2-155b584dea3f",
   "metadata": {},
   "outputs": [
    {
     "data": {
      "text/html": [
       "<div>\n",
       "<style scoped>\n",
       "    .dataframe tbody tr th:only-of-type {\n",
       "        vertical-align: middle;\n",
       "    }\n",
       "\n",
       "    .dataframe tbody tr th {\n",
       "        vertical-align: top;\n",
       "    }\n",
       "\n",
       "    .dataframe thead th {\n",
       "        text-align: right;\n",
       "    }\n",
       "</style>\n",
       "<table border=\"1\" class=\"dataframe\">\n",
       "  <thead>\n",
       "    <tr style=\"text-align: right;\">\n",
       "      <th></th>\n",
       "      <th>matchId</th>\n",
       "      <th>inning</th>\n",
       "      <th>over_ball</th>\n",
       "      <th>over</th>\n",
       "      <th>ball</th>\n",
       "      <th>batsman_runs</th>\n",
       "      <th>extras</th>\n",
       "      <th>isWide</th>\n",
       "      <th>isNoBall</th>\n",
       "      <th>Byes</th>\n",
       "      <th>LegByes</th>\n",
       "      <th>Penalty</th>\n",
       "    </tr>\n",
       "  </thead>\n",
       "  <tbody>\n",
       "    <tr>\n",
       "      <th>count</th>\n",
       "      <td>2.609200e+05</td>\n",
       "      <td>260920.000000</td>\n",
       "      <td>260920.000000</td>\n",
       "      <td>260920.000000</td>\n",
       "      <td>260920.000000</td>\n",
       "      <td>260920.000000</td>\n",
       "      <td>260920.000000</td>\n",
       "      <td>8381.000000</td>\n",
       "      <td>1093.000000</td>\n",
       "      <td>673.000000</td>\n",
       "      <td>4001.000000</td>\n",
       "      <td>2.0</td>\n",
       "    </tr>\n",
       "    <tr>\n",
       "      <th>mean</th>\n",
       "      <td>9.070665e+05</td>\n",
       "      <td>1.483531</td>\n",
       "      <td>9.560015</td>\n",
       "      <td>9.197677</td>\n",
       "      <td>3.623452</td>\n",
       "      <td>1.265001</td>\n",
       "      <td>0.067806</td>\n",
       "      <td>1.201050</td>\n",
       "      <td>1.032022</td>\n",
       "      <td>1.866270</td>\n",
       "      <td>1.307673</td>\n",
       "      <td>5.0</td>\n",
       "    </tr>\n",
       "    <tr>\n",
       "      <th>std</th>\n",
       "      <td>3.679913e+05</td>\n",
       "      <td>0.502643</td>\n",
       "      <td>5.686116</td>\n",
       "      <td>5.683484</td>\n",
       "      <td>1.813850</td>\n",
       "      <td>1.639298</td>\n",
       "      <td>0.343265</td>\n",
       "      <td>0.783803</td>\n",
       "      <td>0.314310</td>\n",
       "      <td>1.312692</td>\n",
       "      <td>0.852387</td>\n",
       "      <td>0.0</td>\n",
       "    </tr>\n",
       "    <tr>\n",
       "      <th>min</th>\n",
       "      <td>3.359820e+05</td>\n",
       "      <td>1.000000</td>\n",
       "      <td>0.100000</td>\n",
       "      <td>0.000000</td>\n",
       "      <td>1.000000</td>\n",
       "      <td>0.000000</td>\n",
       "      <td>0.000000</td>\n",
       "      <td>1.000000</td>\n",
       "      <td>1.000000</td>\n",
       "      <td>1.000000</td>\n",
       "      <td>1.000000</td>\n",
       "      <td>5.0</td>\n",
       "    </tr>\n",
       "    <tr>\n",
       "      <th>25%</th>\n",
       "      <td>5.483340e+05</td>\n",
       "      <td>1.000000</td>\n",
       "      <td>4.500000</td>\n",
       "      <td>4.000000</td>\n",
       "      <td>2.000000</td>\n",
       "      <td>0.000000</td>\n",
       "      <td>0.000000</td>\n",
       "      <td>1.000000</td>\n",
       "      <td>1.000000</td>\n",
       "      <td>1.000000</td>\n",
       "      <td>1.000000</td>\n",
       "      <td>5.0</td>\n",
       "    </tr>\n",
       "    <tr>\n",
       "      <th>50%</th>\n",
       "      <td>9.809670e+05</td>\n",
       "      <td>1.000000</td>\n",
       "      <td>9.400000</td>\n",
       "      <td>9.000000</td>\n",
       "      <td>4.000000</td>\n",
       "      <td>1.000000</td>\n",
       "      <td>0.000000</td>\n",
       "      <td>1.000000</td>\n",
       "      <td>1.000000</td>\n",
       "      <td>1.000000</td>\n",
       "      <td>1.000000</td>\n",
       "      <td>5.0</td>\n",
       "    </tr>\n",
       "    <tr>\n",
       "      <th>75%</th>\n",
       "      <td>1.254066e+06</td>\n",
       "      <td>2.000000</td>\n",
       "      <td>14.400000</td>\n",
       "      <td>14.000000</td>\n",
       "      <td>5.000000</td>\n",
       "      <td>1.000000</td>\n",
       "      <td>0.000000</td>\n",
       "      <td>1.000000</td>\n",
       "      <td>1.000000</td>\n",
       "      <td>4.000000</td>\n",
       "      <td>1.000000</td>\n",
       "      <td>5.0</td>\n",
       "    </tr>\n",
       "    <tr>\n",
       "      <th>max</th>\n",
       "      <td>1.426312e+06</td>\n",
       "      <td>6.000000</td>\n",
       "      <td>19.900000</td>\n",
       "      <td>19.000000</td>\n",
       "      <td>11.000000</td>\n",
       "      <td>6.000000</td>\n",
       "      <td>7.000000</td>\n",
       "      <td>5.000000</td>\n",
       "      <td>5.000000</td>\n",
       "      <td>4.000000</td>\n",
       "      <td>5.000000</td>\n",
       "      <td>5.0</td>\n",
       "    </tr>\n",
       "  </tbody>\n",
       "</table>\n",
       "</div>"
      ],
      "text/plain": [
       "            matchId         inning      over_ball           over  \\\n",
       "count  2.609200e+05  260920.000000  260920.000000  260920.000000   \n",
       "mean   9.070665e+05       1.483531       9.560015       9.197677   \n",
       "std    3.679913e+05       0.502643       5.686116       5.683484   \n",
       "min    3.359820e+05       1.000000       0.100000       0.000000   \n",
       "25%    5.483340e+05       1.000000       4.500000       4.000000   \n",
       "50%    9.809670e+05       1.000000       9.400000       9.000000   \n",
       "75%    1.254066e+06       2.000000      14.400000      14.000000   \n",
       "max    1.426312e+06       6.000000      19.900000      19.000000   \n",
       "\n",
       "                ball   batsman_runs         extras       isWide     isNoBall  \\\n",
       "count  260920.000000  260920.000000  260920.000000  8381.000000  1093.000000   \n",
       "mean        3.623452       1.265001       0.067806     1.201050     1.032022   \n",
       "std         1.813850       1.639298       0.343265     0.783803     0.314310   \n",
       "min         1.000000       0.000000       0.000000     1.000000     1.000000   \n",
       "25%         2.000000       0.000000       0.000000     1.000000     1.000000   \n",
       "50%         4.000000       1.000000       0.000000     1.000000     1.000000   \n",
       "75%         5.000000       1.000000       0.000000     1.000000     1.000000   \n",
       "max        11.000000       6.000000       7.000000     5.000000     5.000000   \n",
       "\n",
       "             Byes      LegByes  Penalty  \n",
       "count  673.000000  4001.000000      2.0  \n",
       "mean     1.866270     1.307673      5.0  \n",
       "std      1.312692     0.852387      0.0  \n",
       "min      1.000000     1.000000      5.0  \n",
       "25%      1.000000     1.000000      5.0  \n",
       "50%      1.000000     1.000000      5.0  \n",
       "75%      4.000000     1.000000      5.0  \n",
       "max      4.000000     5.000000      5.0  "
      ]
     },
     "execution_count": 5,
     "metadata": {},
     "output_type": "execute_result"
    }
   ],
   "source": [
    "ipl_data.describe()"
   ]
  },
  {
   "cell_type": "code",
   "execution_count": 6,
   "id": "39713998-de2b-4c25-84c4-a47d95ccd0f7",
   "metadata": {},
   "outputs": [
    {
     "name": "stdout",
     "output_type": "stream",
     "text": [
      "<class 'pandas.core.frame.DataFrame'>\n",
      "RangeIndex: 260920 entries, 0 to 260919\n",
      "Data columns (total 20 columns):\n",
      " #   Column            Non-Null Count   Dtype  \n",
      "---  ------            --------------   -----  \n",
      " 0   matchId           260920 non-null  int64  \n",
      " 1   inning            260920 non-null  int64  \n",
      " 2   over_ball         260920 non-null  float64\n",
      " 3   over              260920 non-null  int64  \n",
      " 4   ball              260920 non-null  int64  \n",
      " 5   batting_team      260920 non-null  object \n",
      " 6   bowling_team      260920 non-null  object \n",
      " 7   batsman           260920 non-null  object \n",
      " 8   non_striker       260920 non-null  object \n",
      " 9   bowler            260920 non-null  object \n",
      " 10  batsman_runs      260920 non-null  int64  \n",
      " 11  extras            260920 non-null  int64  \n",
      " 12  isWide            8381 non-null    float64\n",
      " 13  isNoBall          1093 non-null    float64\n",
      " 14  Byes              673 non-null     float64\n",
      " 15  LegByes           4001 non-null    float64\n",
      " 16  Penalty           2 non-null       float64\n",
      " 17  dismissal_kind    12950 non-null   object \n",
      " 18  player_dismissed  12950 non-null   object \n",
      " 19  date              260920 non-null  object \n",
      "dtypes: float64(6), int64(6), object(8)\n",
      "memory usage: 39.8+ MB\n"
     ]
    }
   ],
   "source": [
    "ipl_data.info()"
   ]
  },
  {
   "cell_type": "markdown",
   "id": "3a6fbe3b-2207-4757-9aa3-587bc24023a5",
   "metadata": {},
   "source": [
    "# Changing datatype of date column from object to datetime."
   ]
  },
  {
   "cell_type": "code",
   "execution_count": 7,
   "id": "75db2d3a-ba05-4ab2-9448-27cd111cfc4e",
   "metadata": {},
   "outputs": [],
   "source": [
    "ipl_data['date'] = pd.to_datetime(ipl_data['date'])"
   ]
  },
  {
   "cell_type": "code",
   "execution_count": 8,
   "id": "98a96214-9fc2-4255-b999-a6731b1a213e",
   "metadata": {},
   "outputs": [
    {
     "name": "stdout",
     "output_type": "stream",
     "text": [
      "matchId                  0\n",
      "inning                   0\n",
      "over_ball                0\n",
      "over                     0\n",
      "ball                     0\n",
      "batting_team             0\n",
      "bowling_team             0\n",
      "batsman                  0\n",
      "non_striker              0\n",
      "bowler                   0\n",
      "batsman_runs             0\n",
      "extras                   0\n",
      "isWide              252539\n",
      "isNoBall            259827\n",
      "Byes                260247\n",
      "LegByes             256919\n",
      "Penalty             260918\n",
      "dismissal_kind      247970\n",
      "player_dismissed    247970\n",
      "date                     0\n",
      "dtype: int64\n"
     ]
    }
   ],
   "source": [
    "print(ipl_data.isnull().sum())"
   ]
  },
  {
   "cell_type": "markdown",
   "id": "532e5c0a-6866-471e-ac8a-f8d49935f661",
   "metadata": {},
   "source": [
    "# Replacing NaN values with appropriate placeholder."
   ]
  },
  {
   "cell_type": "code",
   "execution_count": 9,
   "id": "7b257f4d-f2e1-4162-9ed7-ce6efa9b1a01",
   "metadata": {},
   "outputs": [
    {
     "name": "stdout",
     "output_type": "stream",
     "text": [
      "[nan 'caught' 'bowled' 'run out' 'lbw' 'retired hurt' 'stumped'\n",
      " 'caught and bowled' 'hit wicket' 'obstructing the field' 'retired out']\n"
     ]
    }
   ],
   "source": [
    "print(ipl_data['dismissal_kind'].unique())"
   ]
  },
  {
   "cell_type": "code",
   "execution_count": 10,
   "id": "f11aca60-9a4f-414f-af32-265a0e0f47bc",
   "metadata": {},
   "outputs": [],
   "source": [
    "numerical_cols = ['isWide', 'isNoBall', 'Byes', 'LegByes', 'Penalty']\n",
    "for col in numerical_cols:\n",
    "    ipl_data[col] = ipl_data[col].fillna(0)\n",
    "ipl_data['dismissal_kind'] = ipl_data['dismissal_kind'].fillna('Not Out')\n",
    "ipl_data['player_dismissed'] = ipl_data['player_dismissed'].fillna('None')"
   ]
  },
  {
   "cell_type": "code",
   "execution_count": 11,
   "id": "865de6f5-0a32-47fb-a468-38e095968e05",
   "metadata": {},
   "outputs": [
    {
     "name": "stdout",
     "output_type": "stream",
     "text": [
      "matchId             0\n",
      "inning              0\n",
      "over_ball           0\n",
      "over                0\n",
      "ball                0\n",
      "batting_team        0\n",
      "bowling_team        0\n",
      "batsman             0\n",
      "non_striker         0\n",
      "bowler              0\n",
      "batsman_runs        0\n",
      "extras              0\n",
      "isWide              0\n",
      "isNoBall            0\n",
      "Byes                0\n",
      "LegByes             0\n",
      "Penalty             0\n",
      "dismissal_kind      0\n",
      "player_dismissed    0\n",
      "date                0\n",
      "dtype: int64\n"
     ]
    }
   ],
   "source": [
    "print(ipl_data.isnull().sum())"
   ]
  },
  {
   "cell_type": "markdown",
   "id": "49beff9c-d064-44a3-8656-cc7ebe33439c",
   "metadata": {},
   "source": [
    "# Checking for typos or old names for teams and players and updating them to a single value."
   ]
  },
  {
   "cell_type": "code",
   "execution_count": 12,
   "id": "4677d647-b497-4985-8940-77dbb811b844",
   "metadata": {},
   "outputs": [
    {
     "name": "stdout",
     "output_type": "stream",
     "text": [
      "['Chennai Super Kings', 'Deccan Chargers', 'Delhi Capitals', 'Delhi Daredevils', 'Gujarat Lions', 'Gujarat Titans', 'Kings XI Punjab', 'Kochi Tuskers Kerala', 'Kolkata Knight Riders', 'Lucknow Super Giants', 'Mumbai Indians', 'Pune Warriors', 'Punjab Kings', 'Rajasthan Royals', 'Rising Pune Supergiant', 'Rising Pune Supergiants', 'Royal Challengers Bangalore', 'Royal Challengers Bengaluru', 'Sunrisers Hyderabad']\n"
     ]
    }
   ],
   "source": [
    "print(sorted(ipl_data['batting_team'].unique()))\n",
    "# Royal Challengers Bangalore - Royal Challengers Bengaluru\n",
    "# Rising Pune Supergiants - Rising Pune Supergiant\n",
    "# Delhi Daredevils - Delhi Capitals\n",
    "# Kings XI Punjab - Punjab Kings"
   ]
  },
  {
   "cell_type": "code",
   "execution_count": 13,
   "id": "5f64f155-5fc3-47d6-a94c-e5c3697e9426",
   "metadata": {},
   "outputs": [],
   "source": [
    "ipl_data[['batting_team', 'bowling_team']] = ipl_data[['batting_team', 'bowling_team']].replace({\n",
    "                                                                                                'Royal Challengers Bengaluru': 'Royal Challengers Bangalore',\n",
    "                                                                                                'Rising Pune Supergiants': 'Rising Pune Supergiant',\n",
    "                                                                                                'Delhi Daredevils': 'Delhi Capitals',\n",
    "                                                                                                'Kings XI Punjab': 'Punjab Kings'\n",
    "                                                                                                })"
   ]
  },
  {
   "cell_type": "code",
   "execution_count": 14,
   "id": "26e05ea2-a905-4da2-91ff-74046fd8b818",
   "metadata": {},
   "outputs": [
    {
     "name": "stdout",
     "output_type": "stream",
     "text": [
      "['Chennai Super Kings', 'Deccan Chargers', 'Delhi Capitals', 'Gujarat Lions', 'Gujarat Titans', 'Kochi Tuskers Kerala', 'Kolkata Knight Riders', 'Lucknow Super Giants', 'Mumbai Indians', 'Pune Warriors', 'Punjab Kings', 'Rajasthan Royals', 'Rising Pune Supergiant', 'Royal Challengers Bangalore', 'Sunrisers Hyderabad']\n"
     ]
    }
   ],
   "source": [
    "print(sorted(ipl_data['batting_team'].unique()))"
   ]
  },
  {
   "cell_type": "code",
   "execution_count": 15,
   "id": "e9a39044-8345-4da1-ab1d-d40b3b9d4932",
   "metadata": {},
   "outputs": [
    {
     "name": "stdout",
     "output_type": "stream",
     "text": [
      "['A Ashish Reddy', 'A Badoni', 'A Chandila', 'A Chopra', 'A Choudhary', 'A Dananjaya', 'A Flintoff', 'A Kamboj', 'A Kumble', 'A Manohar', 'A Mishra', 'A Mithun', 'A Mukund', 'A Nehra', 'A Nortje', 'A Raghuvanshi', 'A Singh', 'A Symonds', 'A Tomar', 'A Uniyal', 'A Zampa', 'AA Bilakhia', 'AA Chavan', 'AA Jhunjhunwala', 'AA Kulkarni', 'AA Noffke', 'AB Agarkar', 'AB Barath', 'AB Dinda', 'AB McDonald', 'AB de Villiers', 'AC Blizzard', 'AC Gilchrist', 'AC Thomas', 'AC Voges', 'AD Hales', 'AD Mascarenhas', 'AD Mathews', 'AD Nath', 'AD Russell', 'AF Milne', 'AG Murtaza', 'AG Paunikar', 'AJ Finch', 'AJ Hosein', 'AJ Turner', 'AJ Tye', 'AK Markram', 'AL Menaria', 'AM Nayar', 'AM Rahane', 'AN Ahmed', 'AN Ghosh', 'AP Dole', 'AP Majumdar', 'AP Tare', 'AR Bawne', 'AR Patel', 'AS Joseph', 'AS Rajpoot', 'AS Raut', 'AS Roy', 'AS Yadav', 'AT Carey', 'AT Rayudu', 'AU Rashid', 'AUK Pathan', 'Abdul Basith', 'Abdul Samad', 'Abdur Razzak', 'Abhishek Sharma', 'Abishek Porel', 'Akash Deep', 'Akash Madhwal', 'Aman Hakim Khan', 'Anirudh Singh', 'Ankit Sharma', 'Ankit Soni', 'Anmolpreet Singh', 'Anuj Rawat', 'Anureet Singh', 'Arjun Tendulkar', 'Arshad Khan', 'Arshad Khan (2)', 'Arshdeep Singh', 'Ashutosh Sharma', 'Atharva Taide', 'Avesh Khan', 'Azhar Mahmood', 'Azmatullah Omarzai', 'B Akhil', 'B Chipli', 'B Indrajith', 'B Kumar', 'B Laughlin', 'B Lee', 'B Sai Sudharsan', 'B Stanlake', 'B Sumanth', 'BA Bhatt', 'BA Stokes', 'BAW Mendis', 'BB McCullum', 'BB Samantray', 'BB Sran', 'BCJ Cutting', 'BE Hendricks', 'BJ Haddin', 'BJ Hodge', 'BJ Rohrer', 'BMAJ Mendis', 'BR Dunk', 'BR Sharath', 'Basil Thampi', 'Bipul Sharma', 'C Green', 'C Madan', 'C Munro', 'C Nanda', 'C Sakariya', 'C de Grandhomme', 'CA Ingram', 'CA Lynn', 'CA Pujara', 'CH Gayle', 'CH Morris', 'CJ Anderson', 'CJ Ferguson', 'CJ Jordan', 'CJ McKay', 'CK Kapugedera', 'CK Langeveldt', 'CL White', 'CM Gautam', 'CR Brathwaite', 'CR Woakes', 'CRD Fernando', 'CV Varun', 'D Brevis', 'D Ferreira', 'D Kalyankrishna', 'D Padikkal', 'D Pretorius', 'D Salunkhe', 'D Wiese', 'D du Preez', 'DA Miller', 'DA Warner', 'DAJ Bracewell', 'DB Das', 'DB Ravi Teja', 'DE Bollinger', 'DG Nalkande', 'DH Yagnik', 'DJ Bravo', 'DJ Harris', 'DJ Hooda', 'DJ Hussey', 'DJ Jacobs', 'DJ Malan', 'DJ Mitchell', 'DJ Muthuswami', 'DJ Thornely', 'DJ Willey', 'DJG Sammy', 'DJM Short', 'DL Chahar', 'DL Vettori', 'DM Bravo', 'DNT Zoysa', 'DP Conway', 'DP Nannes', 'DP Vijaykumar', 'DPMD Jayawardene', 'DR Martyn', 'DR Sams', 'DR Shorey', 'DR Smith', 'DS Kulkarni', 'DS Lehmann', 'DT Christian', 'DT Patil', 'DW Steyn', 'Dhruv Jurel', 'E Lewis', 'EJG Morgan', 'ER Dwivedi', 'F Behardien', 'F du Plessis', 'FA Allen', 'FH Edwards', 'FY Fazal', 'Fazalhaq Farooqi', 'G Coetzee', 'G Gambhir', 'GB Hogg', 'GC Smith', 'GC Viljoen', 'GD McGrath', 'GD Phillips', 'GH Vihari', 'GHS Garton', 'GJ Bailey', 'GJ Maxwell', 'GR Napier', 'Gulbadin Naib', 'Gurkeerat Singh', 'H Das', 'H Klaasen', 'HC Brook', 'HE van der Dussen', 'HF Gurney', 'HH Gibbs', 'HH Pandya', 'HM Amla', 'HR Shokeen', 'HV Patel', 'Harbhajan Singh', 'Harmeet Singh', 'Harpreet Brar', 'Harpreet Singh', 'Harshit Rana', 'I Malhotra', 'I Sharma', 'I Udana', 'IC Pandey', 'IK Pathan', 'IR Jaggi', 'IS Sodhi', 'Imran Tahir', 'Iqbal Abdulla', 'Ishan Kishan', 'J Arunkumar', 'J Botha', 'J Fraser-McGurk', 'J Suchith', 'J Syed Mohammad', 'J Theron', 'J Yadav', 'JA Morkel', 'JA Richardson', 'JC Archer', 'JC Buttler', 'JD Ryder', 'JD Unadkat', 'JDP Oram', 'JDS Neesham', 'JE Root', 'JE Taylor', 'JEC Franklin', 'JH Kallis', 'JJ Bumrah', 'JJ Roy', 'JJ van der Wath', 'JL Denly', 'JL Pattinson', 'JM Bairstow', 'JM Kemp', 'JM Sharma', 'JO Holder', 'JP Behrendorff', 'JP Duminy', 'JP Faulkner', 'JPR Scantlebury-Searles', 'JR Hazlewood', 'JR Hopes', 'JR Philippe', 'Jaskaran Singh', 'Joginder Sharma', 'K Goel', 'K Gowtham', 'K Kartikeya', 'K Rabada', 'K Upadhyay', 'K Yadav', 'KA Jamieson', 'KA Maharaj', 'KA Pollard', 'KAJ Roach', 'KB Arun Karthik', 'KC Cariappa', 'KC Sangakkara', 'KD Karthik', 'KH Pandya', 'KJ Abbott', 'KK Ahmed', 'KK Cooper', 'KK Nair', 'KL Nagarkoti', 'KL Rahul', 'KM Asif', 'KM Jadhav', 'KMA Paul', 'KMDN Kulasekara', 'KP Appanna', 'KP Pietersen', 'KR Mayers', 'KR Sen', 'KS Bharat', 'KS Sharma', 'KS Williamson', 'KV Sharma', 'KW Richardson', 'Kamran Akmal', 'Kamran Khan', 'Karanveer Singh', 'Kartik Tyagi', 'Kuldeep Yadav', 'Kumar Kushagra', 'L Ablish', 'L Balaji', 'L Ronchi', 'L Wood', 'LA Carseldine', 'LA Pomersbach', 'LB Williams', 'LE Plunkett', 'LH Ferguson', 'LJ Wright', 'LMP Simmons', 'LPC Silva', 'LR Shukla', 'LRPL Taylor', 'LS Livingstone', 'Lalit Yadav', 'Liton Das', 'M Ashwin', 'M Jansen', 'M Kaif', 'M Kartik', 'M Klinger', 'M Manhas', 'M Markande', 'M Morkel', 'M Muralitharan', 'M Ntini', 'M Prasidh Krishna', 'M Rawat', 'M Shahrukh Khan', 'M Theekshana', 'M Vijay', 'M Vohra', 'M de Lange', 'MA Agarwal', 'MA Khote', 'MA Starc', 'MA Wood', 'MC Henriques', 'MC Juneja', 'MD Mishra', 'MD Shanaka', 'MDKJ Perera', 'MEK Hussey', 'MF Maharoof', 'MG Bracewell', 'MG Johnson', 'MJ Clarke', 'MJ Guptill', 'MJ Lumb', 'MJ McClenaghan', 'MJ Santner', 'MJ Suthar', 'MK Lomror', 'MK Pandey', 'MK Tiwary', 'ML Hayden', 'MM Ali', 'MM Patel', 'MM Sharma', 'MN Samuels', 'MN van Wyk', 'MP Stoinis', 'MR Marsh', 'MS Bisla', 'MS Dhoni', 'MS Gony', 'MS Wade', 'MV Boucher', 'MW Short', 'Mandeep Singh', 'Mashrafe Mortaza', 'Mayank Dagar', 'Misbah-ul-Haq', 'Mohammad Ashraful', 'Mohammad Asif', 'Mohammad Hafeez', 'Mohammad Nabi', 'Mohammed Shami', 'Mohammed Siraj', 'Mohit Rathee', 'Mohsin Khan', 'Mujeeb Ur Rahman', 'Mukesh Choudhary', 'Mukesh Kumar', 'Mustafizur Rahman', 'N Jagadeesan', 'N Pooran', 'N Rana', 'N Saini', 'N Wadhera', 'NA Saini', 'ND Doshi', 'NJ Maddinson', 'NJ Rimmington', 'NL McCullum', 'NLTC Perera', 'NM Coulter-Nile', 'NS Naik', 'NT Ellis', 'NV Ojha', 'Naman Dhir', 'Navdeep Saini', 'Naveen-ul-Haq', 'Niraj Patel', 'Nithish Kumar Reddy', 'Noor Ahmad', 'OA Shah', 'OC McCoy', 'OF Smith', 'P Awana', 'P Chopra', 'P Dogra', 'P Dubey', 'P Kumar', 'P Negi', 'P Parameswaran', 'P Ray Barman', 'P Sahu', 'P Simran Singh', 'PA Patel', 'PA Reddy', 'PBB Rajapaksa', 'PC Valthaty', 'PD Collingwood', 'PD Salt', 'PJ Cummins', 'PJ Sangwan', 'PK Garg', 'PM Sarvesh Kumar', 'PN Mankad', 'PP Chawla', 'PP Ojha', 'PP Shaw', 'PR Shah', 'PSP Handscomb', 'PV Tambe', 'PVD Chameera', 'PWH de Silva', 'Pankaj Singh', 'Parvez Rasool', 'Q de Kock', 'R Ashwin', 'R Bhatia', 'R Bishnoi', 'R Dhawan', 'R Dravid', 'R McLaren', 'R Ninan', 'R Parag', 'R Powell', 'R Rampaul', 'R Ravindra', 'R Sai Kishore', 'R Sanjay Yadav', 'R Sathish', 'R Sharma', 'R Shepherd', 'R Shukla', 'R Tewatia', 'R Vinay Kumar', 'RA Bawa', 'RA Jadeja', 'RA Tripathi', 'RD Chahar', 'RD Gaikwad', 'RE Levi', 'RE van der Merwe', 'RG More', 'RG Sharma', 'RJ Gleeson', 'RJ Harris', 'RJ Peterson', 'RJ Quiney', 'RJW Topley', 'RK Bhui', 'RK Singh', 'RM Patidar', 'RN ten Doeschate', 'RP Meredith', 'RP Singh', 'RR Bhatkal', 'RR Pant', 'RR Powar', 'RR Raje', 'RR Rossouw', 'RR Sarwan', 'RS Bopara', 'RS Gavaskar', 'RS Sodhi', 'RT Ponting', 'RV Gomez', 'RV Patel', 'RV Uthappa', 'Rahmanullah Gurbaz', 'Ramandeep Singh', 'Rashid Khan', 'Rasikh Salam', 'Ravi Bishnoi', 'S Anirudha', 'S Aravind', 'S Badree', 'S Badrinath', 'S Chanderpaul', 'S Dhawan', 'S Dube', 'S Gopal', 'S Kaul', 'S Kaushik', 'S Ladda', 'S Lamichhane', 'S Nadeem', 'S Narwal', 'S Rana', 'S Randiv', 'S Sohal', 'S Sreesanth', 'S Sriram', 'S Tyagi', 'S Vidyut', 'SA Abbott', 'SA Asnodkar', 'SA Yadav', 'SB Bangar', 'SB Dubey', 'SB Jakati', 'SB Joshi', 'SB Styris', 'SB Wagh', 'SC Ganguly', 'SD Chitnis', 'SD Hope', 'SD Lad', 'SE Bond', 'SE Marsh', 'SE Rutherford', 'SH Johnson', 'SJ Srivastava', 'SK Raina', 'SK Trivedi', 'SK Warne', 'SL Malinga', 'SM Curran', 'SM Harwood', 'SM Katich', 'SM Pollock', 'SMSM Senanayake', 'SN Khan', 'SN Thakur', 'SO Hetmyer', 'SP Fleming', 'SP Goswami', 'SP Jackson', 'SP Narine', 'SPD Smith', 'SR Tendulkar', 'SR Watson', 'SS Cottrell', 'SS Iyer', 'SS Prabhudessai', 'SS Shaikh', 'SS Tiwary', 'ST Jayasuriya', 'STR Binny', 'SV Samson', 'SW Billings', 'SW Tait', 'SZ Mulani', 'Sachin Baby', 'Salman Butt', 'Sameer Rizvi', 'Sandeep Sharma', 'Sanvir Singh', 'Saurav Chauhan', 'Shahbaz Ahmed', 'Shahid Afridi', 'Shakib Al Hasan', 'Shashank Singh', 'Shivam Mavi', 'Shivam Sharma', 'Shivam Singh', 'Shoaib Ahmed', 'Shoaib Akhtar', 'Shoaib Malik', 'Shubman Gill', 'Sikandar Raza', 'Simarjeet Singh', 'Sohail Tanvir', 'Sumit Kumar', 'Sunny Gupta', 'Sunny Singh', 'Swapnil Singh', 'T Banton', 'T Henderson', 'T Kohler-Cadmore', 'T Kohli', 'T Natarajan', 'T Shamsi', 'T Stubbs', 'T Taibu', 'T Thushara', 'TA Boult', 'TD Paine', 'TG Southee', 'TH David', 'TK Curran', 'TL Seifert', 'TL Suman', 'TM Dilshan', 'TM Head', 'TM Srivastava', 'TR Birt', 'TS Mills', 'TU Deshpande', 'Tanush Kotian', 'Tilak Varma', 'U Kaul', 'UA Birla', 'UBT Chand', 'UT Khawaja', 'UT Yadav', 'Umar Gul', 'Umran Malik', 'V Kohli', 'V Pratap Singh', 'V Sehwag', 'V Shankar', 'V Viyaskanth', 'VG Arora', 'VH Zol', 'VR Aaron', 'VR Iyer', 'VRV Singh', 'VS Malik', 'VS Yeligati', 'VVS Laxman', 'VY Mahesh', 'Vijaykumar Vyshak', 'Virat Singh', 'Vishnu Vinod', 'Vivrant Sharma', 'W Jaffer', 'WA Mota', 'WD Parnell', 'WG Jacks', 'WP Saha', 'WPUJC Vaas', 'Washington Sundar', 'X Thalaivan Sargunam', 'Y Gnaneswara Rao', 'Y Nagar', 'Y Prithvi Raj', 'Y Venugopal Rao', 'YA Abdulla', 'YBK Jaiswal', 'YK Pathan', 'YS Chahal', 'YV Dhull', 'YV Takawale', 'Yash Dayal', 'Yashpal Singh', 'Younis Khan', 'Yudhvir Singh', 'Yuvraj Singh', 'Z Khan']\n"
     ]
    }
   ],
   "source": [
    "print(sorted(ipl_data['batsman'].unique()))\n",
    "# R Sharma - RG Sharma\n",
    "# MD Shammi - Mohammed Shami\n",
    "# AT Rayudu - Ambati Rayudu\n",
    "# B Kumar - Bhuvneshwar Kumar\n",
    "# Ashish Nehra - A Nehra\n",
    "# KV Sharma - KS Sharma\n",
    "# Abhimanyu Mithun - A Mithun"
   ]
  },
  {
   "cell_type": "code",
   "execution_count": 16,
   "id": "0302f884-6323-415e-a4c1-6a67966ceaae",
   "metadata": {},
   "outputs": [
    {
     "name": "stdout",
     "output_type": "stream",
     "text": [
      "['A Ashish Reddy', 'A Badoni', 'A Chandila', 'A Choudhary', 'A Dananjaya', 'A Flintoff', 'A Kamboj', 'A Kumble', 'A Mishra', 'A Mithun', 'A Nehra', 'A Nel', 'A Nortje', 'A Singh', 'A Symonds', 'A Uniyal', 'A Zampa', 'AA Chavan', 'AA Jhunjhunwala', 'AA Kazi', 'AA Noffke', 'AB Agarkar', 'AB Dinda', 'AB McDonald', 'AC Gilchrist', 'AC Thomas', 'AC Voges', 'AD Mascarenhas', 'AD Mathews', 'AD Russell', 'AF Milne', 'AG Murtaza', 'AJ Finch', 'AJ Hosein', 'AJ Tye', 'AK Markram', 'AL Menaria', 'AM Nayar', 'AM Rahane', 'AM Salvi', 'AN Ahmed', 'AP Dole', 'AR Patel', 'AS Joseph', 'AS Rajpoot', 'AS Raut', 'AS Roy', 'AU Rashid', 'AUK Pathan', 'Abdul Samad', 'Abdur Razzak', 'Abhishek Sharma', 'Akash Deep', 'Akash Madhwal', 'Akash Singh', 'Aman Hakim Khan', 'Anand Rajan', 'Ankit Sharma', 'Ankit Soni', 'Anureet Singh', 'Arjun Tendulkar', 'Arshad Khan', 'Arshad Khan (2)', 'Arshdeep Singh', 'Atharva Taide', 'Avesh Khan', 'Azhar Mahmood', 'Azmatullah Omarzai', 'B Akhil', 'B Chipli', 'B Geeves', 'B Kumar', 'B Laughlin', 'B Lee', 'B Stanlake', 'BA Bhatt', 'BA Stokes', 'BAW Mendis', 'BB Sran', 'BCJ Cutting', 'BE Hendricks', 'BJ Hodge', 'BJ Rohrer', 'BMAJ Mendis', 'BW Hilfenhaus', 'Basil Thampi', 'Bipul Sharma', 'C Ganapathy', 'C Green', 'C Munro', 'C Nanda', 'C Sakariya', 'C de Grandhomme', 'CH Gayle', 'CH Morris', 'CJ Anderson', 'CJ Dala', 'CJ Green', 'CJ Jordan', 'CJ McKay', 'CK Kapugedera', 'CK Langeveldt', 'CL White', 'CR Brathwaite', 'CR Woakes', 'CRD Fernando', 'CV Varun', 'D Brevis', 'D Jansen', 'D Kalyankrishna', 'D Pretorius', 'D Salunkhe', 'D Wiese', 'D du Preez', 'DA Warner', 'DAJ Bracewell', 'DB Ravi Teja', 'DE Bollinger', 'DG Nalkande', 'DJ Bravo', 'DJ Harris', 'DJ Hooda', 'DJ Hussey', 'DJ Mitchell', 'DJ Muthuswami', 'DJ Thornely', 'DJ Willey', 'DJG Sammy', 'DJM Short', 'DL Chahar', 'DL Vettori', 'DNT Zoysa', 'DP Nannes', 'DP Vijaykumar', 'DR Sams', 'DR Smith', 'DS Kulkarni', 'DT Christian', 'DW Steyn', 'F du Plessis', 'FA Allen', 'FH Edwards', 'FY Fazal', 'Fazalhaq Farooqi', 'G Coetzee', 'GB Hogg', 'GC Viljoen', 'GD McGrath', 'GD Phillips', 'GH Vihari', 'GHS Garton', 'GJ Maxwell', 'GR Napier', 'GS Sandhu', 'Gagandeep Singh', 'Gulbadin Naib', 'Gurkeerat Singh', 'Gurnoor Brar', 'H Sharma', 'HF Gurney', 'HH Pandya', 'HR Shokeen', 'HV Patel', 'Harbhajan Singh', 'Harmeet Singh', 'Harmeet Singh (2)', 'Harpreet Brar', 'Harshit Rana', 'I Malhotra', 'I Sharma', 'I Udana', 'IC Pandey', 'IC Porel', 'IK Pathan', 'IS Sodhi', 'Imran Tahir', 'Iqbal Abdulla', 'J Botha', 'J Little', 'J Suchith', 'J Syed Mohammad', 'J Theron', 'J Yadav', 'JA Morkel', 'JA Richardson', 'JC Archer', 'JD Ryder', 'JD Unadkat', 'JDP Oram', 'JDS Neesham', 'JE Root', 'JE Taylor', 'JEC Franklin', 'JH Kallis', 'JJ Bumrah', 'JJ van der Wath', 'JL Pattinson', 'JM Kemp', 'JO Holder', 'JP Behrendorff', 'JP Duminy', 'JP Faulkner', 'JPR Scantlebury-Searles', 'JR Hazlewood', 'JR Hopes', 'JW Hastings', 'Jalaj S Saxena', 'Jaskaran Singh', 'Joginder Sharma', 'K Goel', 'K Gowtham', 'K Kartikeya', 'K Khejroliya', 'K Rabada', 'K Santokie', 'K Upadhyay', 'K Yadav', 'KA Jamieson', 'KA Maharaj', 'KA Pollard', 'KAJ Roach', 'KC Cariappa', 'KH Pandya', 'KJ Abbott', 'KK Ahmed', 'KK Cooper', 'KL Nagarkoti', 'KM Asif', 'KMA Paul', 'KMDN Kulasekara', 'KP Appanna', 'KP Pietersen', 'KR Mayers', 'KR Sen', 'KS Williamson', 'KT Maphaka', 'KV Sharma', 'KW Richardson', 'Kamran Khan', 'Karanveer Singh', 'Kartik Tyagi', 'Kuldeep Yadav', 'L Ablish', 'L Balaji', 'L Ngidi', 'L Wood', 'LA Carseldine', 'LB Williams', 'LE Plunkett', 'LH Ferguson', 'LI Meriwala', 'LJ Wright', 'LMP Simmons', 'LPC Silva', 'LR Shukla', 'LRPL Taylor', 'LS Livingstone', 'Lalit Yadav', 'M Ashwin', 'M Jansen', 'M Kartik', 'M Manhas', 'M Markande', 'M Morkel', 'M Muralitharan', 'M Ntini', 'M Pathirana', 'M Prasidh Krishna', 'M Shahrukh Khan', 'M Siddharth', 'M Theekshana', 'M Vijay', 'M de Lange', 'MA Khote', 'MA Starc', 'MA Wood', 'MB Parmar', 'MC Henriques', 'MF Maharoof', 'MG Bracewell', 'MG Johnson', 'MG Neser', 'MJ Clarke', 'MJ Henry', 'MJ McClenaghan', 'MJ Santner', 'MJ Suthar', 'MK Lomror', 'MK Tiwary', 'MM Ali', 'MM Patel', 'MM Sharma', 'MN Samuels', 'MP Stoinis', 'MP Yadav', 'MR Marsh', 'MS Gony', 'MW Short', 'Mandeep Singh', 'Mashrafe Mortaza', 'Mayank Dagar', 'Mohammad Asif', 'Mohammad Hafeez', 'Mohammad Nabi', 'Mohammed Shami', 'Mohammed Siraj', 'Mohit Rathee', 'Mohsin Khan', 'Monu Kumar', 'Mujeeb Ur Rahman', 'Mukesh Choudhary', 'Mukesh Kumar', 'Mustafizur Rahman', 'N Burger', 'N Rana', 'N Thushara', 'N Wadhera', 'NA Saini', 'NB Singh', 'ND Doshi', 'NJ Rimmington', 'NL McCullum', 'NLTC Perera', 'NM Coulter-Nile', 'NT Ellis', 'Naman Dhir', 'Navdeep Saini', 'Naveen-ul-Haq', 'Nithish Kumar Reddy', 'Noor Ahmad', 'O Thomas', 'OC McCoy', 'OF Smith', 'P Amarnath', 'P Awana', 'P Dubey', 'P Kumar', 'P Negi', 'P Parameswaran', 'P Prasanth', 'P Ray Barman', 'P Sahu', 'P Suyal', 'PC Valthaty', 'PD Collingwood', 'PH Solanki', 'PJ Cummins', 'PJ Sangwan', 'PM Sarvesh Kumar', 'PP Chawla', 'PP Ojha', 'PV Tambe', 'PVD Chameera', 'PWH de Silva', 'Pankaj Singh', 'Parvez Rasool', 'R Ashwin', 'R Bhatia', 'R Dhawan', 'R Goyal', 'R McLaren', 'R Ninan', 'R Parag', 'R Powell', 'R Rampaul', 'R Ravindra', 'R Sai Kishore', 'R Sanjay Yadav', 'R Sathish', 'R Sharma', 'R Shepherd', 'R Shukla', 'R Tewatia', 'R Vinay Kumar', 'RA Jadeja', 'RA Shaikh', 'RA Tripathi', 'RD Chahar', 'RE van der Merwe', 'RG More', 'RG Sharma', 'RJ Gleeson', 'RJ Harris', 'RJ Peterson', 'RJW Topley', 'RN ten Doeschate', 'RP Meredith', 'RP Singh', 'RR Bhatkal', 'RR Bose', 'RR Powar', 'RR Raje', 'RS Bopara', 'RS Gavaskar', 'RS Hangargekar', 'RV Gomez', 'RV Patel', 'RW Price', 'Ramandeep Singh', 'Rashid Khan', 'Rasikh Salam', 'Ravi Bishnoi', 'S Aravind', 'S Badree', 'S Dhawan', 'S Dube', 'S Gopal', 'S Joseph', 'S Kaul', 'S Kaushik', 'S Ladda', 'S Lamichhane', 'S Midhun', 'S Nadeem', 'S Narwal', 'S Rana', 'S Randiv', 'S Sandeep Warrier', 'S Sreesanth', 'S Sriram', 'S Tyagi', 'S Vidyut', 'SA Abbott', 'SA Yadav', 'SB Bangar', 'SB Jakati', 'SB Joshi', 'SB Styris', 'SB Wagh', 'SC Ganguly', 'SC Kuggeleijn', 'SD Chitnis', 'SE Bond', 'SE Rutherford', 'SH Johnson', 'SJ Srivastava', 'SK Raina', 'SK Trivedi', 'SK Warne', 'SL Malinga', 'SM Boland', 'SM Curran', 'SM Harwood', 'SM Pollock', 'SMSM Senanayake', 'SN Khan', 'SN Thakur', 'SP Narine', 'SPD Smith', 'SR Tendulkar', 'SR Watson', 'SS Agarwal', 'SS Cottrell', 'SS Iyer', 'SS Mundhe', 'SS Sarkar', 'SSB Magala', 'ST Jayasuriya', 'STR Binny', 'SW Tait', 'SZ Mulani', 'Sachin Baby', 'Sandeep Sharma', 'Shahbaz Ahmed', 'Shahid Afridi', 'Shakib Al Hasan', 'Shashank Singh', 'Shivam Mavi', 'Shivam Sharma', 'Shoaib Ahmed', 'Shoaib Akhtar', 'Shoaib Malik', 'Sikandar Raza', 'Simarjeet Singh', 'Sohail Tanvir', 'Sumit Kumar', 'Sunny Gupta', 'Suyash Sharma', 'Swapnil Singh', 'T Henderson', 'T Natarajan', 'T Shamsi', 'T Stubbs', 'T Thushara', 'TA Boult', 'TG Southee', 'TK Curran', 'TL Suman', 'TM Dilshan', 'TM Head', 'TP Sudhindra', 'TS Mills', 'TU Deshpande', 'Tejas Baroka', 'Tilak Varma', 'UT Yadav', 'Umar Gul', 'Umran Malik', 'V Kaverappa', 'V Kohli', 'V Pratap Singh', 'V Sehwag', 'V Shankar', 'V Viyaskanth', 'VG Arora', 'VR Aaron', 'VR Iyer', 'VRV Singh', 'VS Malik', 'VS Yeligati', 'VY Mahesh', 'Vijaykumar Vyshak', 'Vivrant Sharma', 'WA Mota', 'WD Parnell', 'WG Jacks', 'WPUJC Vaas', 'Washington Sundar', 'Y Gnaneswara Rao', 'Y Nagar', 'Y Prithvi Raj', 'Y Venugopal Rao', 'YA Abdulla', 'YBK Jaiswal', 'YK Pathan', 'YS Chahal', 'Yash Dayal', 'Yash Thakur', 'Yudhvir Singh', 'Yuvraj Singh', 'Z Khan']\n"
     ]
    }
   ],
   "source": [
    "print(sorted(ipl_data['bowler'].unique()))\n",
    "# Harbhajan Singh - H Singh\n",
    "# Mohammed Shami - MD Shami\n",
    "# Ashish Nehra - A Nehra\n",
    "# Bhuvneshwar Kumar - B Kumar\n",
    "# Umesh Yadav - UT Yadav\n",
    "# Sandeep Sharma - S Sharma\n",
    "# Praveen Kumar - P Kumar\n",
    "# Zaheer Khan - Z Khan\n",
    "# Imran Tahir - I Tahir"
   ]
  },
  {
   "cell_type": "code",
   "execution_count": 17,
   "id": "ccc4f7c3-2567-466e-bccf-d26f49ce71cf",
   "metadata": {},
   "outputs": [],
   "source": [
    "ipl_data[['batsman', 'non_striker', 'bowler', 'player_dismissed']] = ipl_data[['batsman', 'non_striker', 'bowler', 'player_dismissed']].replace({\n",
    "'R Sharma' : 'RG Sharma',\n",
    "'MD Shammi' : 'Mohammed Shami',\n",
    "'AT Rayudu' : 'Ambati Rayudu',\n",
    "'B Kumar' : 'Bhuvneshwar Kumar',\n",
    "'Ashish Nehra' : 'A Nehra',\n",
    "'KV Sharma' : 'KS Sharma',\n",
    "'Abhimanyu Mithun' : 'A Mithun',\n",
    "'Harbhajan Singh' : 'H Singh',\n",
    "'Mohammed Shami' : 'MD Shami',\n",
    "'Ashish Nehra' : 'A Nehra',\n",
    "'Bhuvneshwar Kumar' : 'B Kumar',\n",
    "'Umesh Yadav' : 'UT Yadav',\n",
    "'Sandeep Sharma' : 'S Sharma',\n",
    "'Praveen Kumar' : 'P Kumar',\n",
    "'Zaheer Khan' : 'Z Khan',\n",
    "'Imran Tahir' : 'I Tahir'\n",
    "})"
   ]
  },
  {
   "cell_type": "code",
   "execution_count": 18,
   "id": "44be63ee-2114-47b1-be52-8b3f2404feb0",
   "metadata": {},
   "outputs": [
    {
     "data": {
      "text/html": [
       "<div>\n",
       "<style scoped>\n",
       "    .dataframe tbody tr th:only-of-type {\n",
       "        vertical-align: middle;\n",
       "    }\n",
       "\n",
       "    .dataframe tbody tr th {\n",
       "        vertical-align: top;\n",
       "    }\n",
       "\n",
       "    .dataframe thead th {\n",
       "        text-align: right;\n",
       "    }\n",
       "</style>\n",
       "<table border=\"1\" class=\"dataframe\">\n",
       "  <thead>\n",
       "    <tr style=\"text-align: right;\">\n",
       "      <th></th>\n",
       "      <th>matchId</th>\n",
       "      <th>inning</th>\n",
       "      <th>over_ball</th>\n",
       "      <th>over</th>\n",
       "      <th>ball</th>\n",
       "      <th>batting_team</th>\n",
       "      <th>bowling_team</th>\n",
       "      <th>batsman</th>\n",
       "      <th>non_striker</th>\n",
       "      <th>bowler</th>\n",
       "      <th>batsman_runs</th>\n",
       "      <th>extras</th>\n",
       "      <th>isWide</th>\n",
       "      <th>isNoBall</th>\n",
       "      <th>Byes</th>\n",
       "      <th>LegByes</th>\n",
       "      <th>Penalty</th>\n",
       "      <th>dismissal_kind</th>\n",
       "      <th>player_dismissed</th>\n",
       "      <th>date</th>\n",
       "    </tr>\n",
       "  </thead>\n",
       "  <tbody>\n",
       "    <tr>\n",
       "      <th>0</th>\n",
       "      <td>335982</td>\n",
       "      <td>1</td>\n",
       "      <td>0.1</td>\n",
       "      <td>0</td>\n",
       "      <td>1</td>\n",
       "      <td>Kolkata Knight Riders</td>\n",
       "      <td>Royal Challengers Bangalore</td>\n",
       "      <td>SC Ganguly</td>\n",
       "      <td>BB McCullum</td>\n",
       "      <td>P Kumar</td>\n",
       "      <td>0</td>\n",
       "      <td>1</td>\n",
       "      <td>0.0</td>\n",
       "      <td>0.0</td>\n",
       "      <td>0.0</td>\n",
       "      <td>1.0</td>\n",
       "      <td>0.0</td>\n",
       "      <td>Not Out</td>\n",
       "      <td>None</td>\n",
       "      <td>2008-04-18</td>\n",
       "    </tr>\n",
       "    <tr>\n",
       "      <th>1</th>\n",
       "      <td>335982</td>\n",
       "      <td>1</td>\n",
       "      <td>0.2</td>\n",
       "      <td>0</td>\n",
       "      <td>2</td>\n",
       "      <td>Kolkata Knight Riders</td>\n",
       "      <td>Royal Challengers Bangalore</td>\n",
       "      <td>BB McCullum</td>\n",
       "      <td>SC Ganguly</td>\n",
       "      <td>P Kumar</td>\n",
       "      <td>0</td>\n",
       "      <td>0</td>\n",
       "      <td>0.0</td>\n",
       "      <td>0.0</td>\n",
       "      <td>0.0</td>\n",
       "      <td>0.0</td>\n",
       "      <td>0.0</td>\n",
       "      <td>Not Out</td>\n",
       "      <td>None</td>\n",
       "      <td>2008-04-18</td>\n",
       "    </tr>\n",
       "    <tr>\n",
       "      <th>2</th>\n",
       "      <td>335982</td>\n",
       "      <td>1</td>\n",
       "      <td>0.3</td>\n",
       "      <td>0</td>\n",
       "      <td>3</td>\n",
       "      <td>Kolkata Knight Riders</td>\n",
       "      <td>Royal Challengers Bangalore</td>\n",
       "      <td>BB McCullum</td>\n",
       "      <td>SC Ganguly</td>\n",
       "      <td>P Kumar</td>\n",
       "      <td>0</td>\n",
       "      <td>1</td>\n",
       "      <td>1.0</td>\n",
       "      <td>0.0</td>\n",
       "      <td>0.0</td>\n",
       "      <td>0.0</td>\n",
       "      <td>0.0</td>\n",
       "      <td>Not Out</td>\n",
       "      <td>None</td>\n",
       "      <td>2008-04-18</td>\n",
       "    </tr>\n",
       "    <tr>\n",
       "      <th>3</th>\n",
       "      <td>335982</td>\n",
       "      <td>1</td>\n",
       "      <td>0.4</td>\n",
       "      <td>0</td>\n",
       "      <td>4</td>\n",
       "      <td>Kolkata Knight Riders</td>\n",
       "      <td>Royal Challengers Bangalore</td>\n",
       "      <td>BB McCullum</td>\n",
       "      <td>SC Ganguly</td>\n",
       "      <td>P Kumar</td>\n",
       "      <td>0</td>\n",
       "      <td>0</td>\n",
       "      <td>0.0</td>\n",
       "      <td>0.0</td>\n",
       "      <td>0.0</td>\n",
       "      <td>0.0</td>\n",
       "      <td>0.0</td>\n",
       "      <td>Not Out</td>\n",
       "      <td>None</td>\n",
       "      <td>2008-04-18</td>\n",
       "    </tr>\n",
       "    <tr>\n",
       "      <th>4</th>\n",
       "      <td>335982</td>\n",
       "      <td>1</td>\n",
       "      <td>0.5</td>\n",
       "      <td>0</td>\n",
       "      <td>5</td>\n",
       "      <td>Kolkata Knight Riders</td>\n",
       "      <td>Royal Challengers Bangalore</td>\n",
       "      <td>BB McCullum</td>\n",
       "      <td>SC Ganguly</td>\n",
       "      <td>P Kumar</td>\n",
       "      <td>0</td>\n",
       "      <td>0</td>\n",
       "      <td>0.0</td>\n",
       "      <td>0.0</td>\n",
       "      <td>0.0</td>\n",
       "      <td>0.0</td>\n",
       "      <td>0.0</td>\n",
       "      <td>Not Out</td>\n",
       "      <td>None</td>\n",
       "      <td>2008-04-18</td>\n",
       "    </tr>\n",
       "  </tbody>\n",
       "</table>\n",
       "</div>"
      ],
      "text/plain": [
       "   matchId  inning  over_ball  over  ball           batting_team  \\\n",
       "0   335982       1        0.1     0     1  Kolkata Knight Riders   \n",
       "1   335982       1        0.2     0     2  Kolkata Knight Riders   \n",
       "2   335982       1        0.3     0     3  Kolkata Knight Riders   \n",
       "3   335982       1        0.4     0     4  Kolkata Knight Riders   \n",
       "4   335982       1        0.5     0     5  Kolkata Knight Riders   \n",
       "\n",
       "                  bowling_team      batsman  non_striker   bowler  \\\n",
       "0  Royal Challengers Bangalore   SC Ganguly  BB McCullum  P Kumar   \n",
       "1  Royal Challengers Bangalore  BB McCullum   SC Ganguly  P Kumar   \n",
       "2  Royal Challengers Bangalore  BB McCullum   SC Ganguly  P Kumar   \n",
       "3  Royal Challengers Bangalore  BB McCullum   SC Ganguly  P Kumar   \n",
       "4  Royal Challengers Bangalore  BB McCullum   SC Ganguly  P Kumar   \n",
       "\n",
       "   batsman_runs  extras  isWide  isNoBall  Byes  LegByes  Penalty  \\\n",
       "0             0       1     0.0       0.0   0.0      1.0      0.0   \n",
       "1             0       0     0.0       0.0   0.0      0.0      0.0   \n",
       "2             0       1     1.0       0.0   0.0      0.0      0.0   \n",
       "3             0       0     0.0       0.0   0.0      0.0      0.0   \n",
       "4             0       0     0.0       0.0   0.0      0.0      0.0   \n",
       "\n",
       "  dismissal_kind player_dismissed       date  \n",
       "0        Not Out             None 2008-04-18  \n",
       "1        Not Out             None 2008-04-18  \n",
       "2        Not Out             None 2008-04-18  \n",
       "3        Not Out             None 2008-04-18  \n",
       "4        Not Out             None 2008-04-18  "
      ]
     },
     "execution_count": 18,
     "metadata": {},
     "output_type": "execute_result"
    }
   ],
   "source": [
    "ipl_data.head()"
   ]
  },
  {
   "cell_type": "markdown",
   "id": "546e6f0a-1ed1-46dc-986c-583437bb7c32",
   "metadata": {},
   "source": [
    "# Performing analysis on cleaned dataset."
   ]
  },
  {
   "cell_type": "code",
   "execution_count": 19,
   "id": "9f902fbc-2c6a-48f6-9f2e-79d203f9616f",
   "metadata": {},
   "outputs": [
    {
     "name": "stdout",
     "output_type": "stream",
     "text": [
      "batsman\n",
      "V Kohli           8014\n",
      "S Dhawan          6769\n",
      "RG Sharma         6696\n",
      "DA Warner         6567\n",
      "SK Raina          5536\n",
      "MS Dhoni          5243\n",
      "AB de Villiers    5181\n",
      "CH Gayle          4997\n",
      "RV Uthappa        4954\n",
      "KD Karthik        4843\n",
      "Name: batsman_runs, dtype: int64\n"
     ]
    }
   ],
   "source": [
    "# List of top batsman by runs.\n",
    "\n",
    "top_batsman = ipl_data.groupby('batsman')\n",
    "top_batsman = top_batsman['batsman_runs'].sum().sort_values(ascending = False)\n",
    "\n",
    "print(top_batsman.head(10))"
   ]
  },
  {
   "cell_type": "code",
   "execution_count": 20,
   "id": "546b3858-fd03-4c5f-8e56-bc55ca2c66b5",
   "metadata": {},
   "outputs": [
    {
     "data": {
      "image/png": "[encoded data removed]",
      "text/plain": [
       "<Figure size 1000x600 with 1 Axes>"
      ]
     },
     "metadata": {},
     "output_type": "display_data"
    }
   ],
   "source": [
    "plt.figure(figsize=(10, 6))\n",
    "ax = sns.barplot(x = top_batsman.head(10).index, y = top_batsman.head(10).values, palette = 'flare', hue = top_batsman.head(10).index)\n",
    "for container in ax.containers:\n",
    "    ax.bar_label(container)\n",
    "ax.set_title(\"Most runs made by batsman from 2008 - 2024\", fontsize = 16)\n",
    "ax.set_xlabel(\"Batsman\", fontsize = 14)\n",
    "ax.set_ylabel(\"Total Runs\", fontsize = 14)\n",
    "plt.xticks(rotation = 45)\n",
    "plt.show()"
   ]
  },
  {
   "cell_type": "code",
   "execution_count": 21,
   "id": "0009f4ab-1b77-4d24-a6f2-6cd4893f5224",
   "metadata": {},
   "outputs": [
    {
     "name": "stdout",
     "output_type": "stream",
     "text": [
      "bowler\n",
      "R Ashwin             4679\n",
      "SP Narine            4146\n",
      "Bhuvneshwar Kumar    4060\n",
      "RA Jadeja            3895\n",
      "PP Chawla            3895\n",
      "YS Chahal            3628\n",
      "H Singh              3496\n",
      "A Mishra             3444\n",
      "DJ Bravo             3296\n",
      "UT Yadav             3190\n",
      "Name: player_dismissed, dtype: int64\n"
     ]
    }
   ],
   "source": [
    "# List of top bowlers by batsman dismissed.\n",
    "\n",
    "top_bowler = ipl_data.groupby('bowler')\n",
    "top_bowler = top_bowler['player_dismissed'].count().sort_values(ascending = False)\n",
    "\n",
    "print(top_bowler.head(10))"
   ]
  },
  {
   "cell_type": "code",
   "execution_count": 22,
   "id": "23090665-dbed-49a5-861a-a072f46b7aa9",
   "metadata": {},
   "outputs": [
    {
     "data": {
      "image/png": "[encoded data removed]",
      "text/plain": [
       "<Figure size 1000x600 with 1 Axes>"
      ]
     },
     "metadata": {},
     "output_type": "display_data"
    }
   ],
   "source": [
    "plt.figure(figsize=(10, 6))\n",
    "ax = sns.barplot(x = top_bowler.head(10).index, y = top_bowler.head(10).values, palette = 'crest', hue = top_bowler.head(10).index)\n",
    "for container in ax.containers:\n",
    "    ax.bar_label(container)\n",
    "ax.set_title(\"Most players dismissed by bowlers from 2008 - 2024\", fontsize = 16)\n",
    "ax.set_xlabel(\"Bowlers\", fontsize = 14)\n",
    "ax.set_ylabel(\"Total Players Dismissed\", fontsize = 14)\n",
    "plt.xticks(rotation = 45)\n",
    "plt.show()"
   ]
  },
  {
   "cell_type": "code",
   "execution_count": 23,
   "id": "0d6b8a1c-8a7a-416e-80d5-71568b3e318e",
   "metadata": {},
   "outputs": [
    {
     "name": "stdout",
     "output_type": "stream",
     "text": [
      "batsman\n",
      "S Dhawan        3415\n",
      "DA Warner       3318\n",
      "V Kohli         2809\n",
      "CH Gayle        2405\n",
      "AM Rahane       2319\n",
      "G Gambhir       2277\n",
      "F du Plessis    2148\n",
      "RG Sharma       2137\n",
      "RV Uthappa      2037\n",
      "KL Rahul        2010\n",
      "Name: batsman_runs, dtype: int64\n"
     ]
    }
   ],
   "source": [
    "# List of top batsman during powerplay over phase.\n",
    "\n",
    "powerplay_data = ipl_data[(ipl_data['over'] >= 0) & (ipl_data['over'] <= 5)]\n",
    "top_powerplay_batsman = powerplay_data.groupby('batsman')\n",
    "top_powerplay_batsman = top_powerplay_batsman['batsman_runs'].sum().sort_values(ascending = False)\n",
    "\n",
    "print(top_powerplay_batsman.head(10))"
   ]
  },
  {
   "cell_type": "code",
   "execution_count": 24,
   "id": "8e204211-b65a-4144-a029-8f314c8ca2c1",
   "metadata": {},
   "outputs": [
    {
     "data": {
      "application/vnd.plotly.v1+json": {
       "config": {
        "plotlyServerURL": "https://plot.ly"
       },
       "data": [
        {
         "hovertemplate": "Batsman=%{x}<br>Total runs made=%{y}<extra></extra>",
         "legendgroup": "",
         "marker": {
          "color": "purple",
          "pattern": {
           "shape": ""
          }
         },
         "name": "",
         "orientation": "v",
         "showlegend": false,
         "textposition": "auto",
         "type": "bar",
         "x": [
          "S Dhawan",
          "DA Warner",
          "V Kohli",
          "CH Gayle",
          "AM Rahane",
          "G Gambhir",
          "F du Plessis",
          "RG Sharma",
          "RV Uthappa",
          "KL Rahul"
         ],
         "xaxis": "x",
         "y": {
          "bdata": "Vw32DPkKZQkPCeUIZAhZCPUH2gc=",
          "dtype": "i2"
         },
         "yaxis": "y"
        }
       ],
       "layout": {
        "bargap": 0.05,
        "barmode": "relative",
        "height": 600,
        "legend": {
         "tracegroupgap": 0
        },
        "template": {
         "data": {
          "bar": [
           {
            "error_x": {
             "color": "#2a3f5f"
            },
            "error_y": {
             "color": "#2a3f5f"
            },
            "marker": {
             "line": {
              "color": "#E5ECF6",
              "width": 0.5
             },
             "pattern": {
              "fillmode": "overlay",
              "size": 10,
              "solidity": 0.2
             }
            },
            "type": "bar"
           }
          ],
          "barpolar": [
           {
            "marker": {
             "line": {
              "color": "#E5ECF6",
              "width": 0.5
             },
             "pattern": {
              "fillmode": "overlay",
              "size": 10,
              "solidity": 0.2
             }
            },
            "type": "barpolar"
           }
          ],
          "carpet": [
           {
            "aaxis": {
             "endlinecolor": "#2a3f5f",
             "gridcolor": "white",
             "linecolor": "white",
             "minorgridcolor": "white",
             "startlinecolor": "#2a3f5f"
            },
            "baxis": {
             "endlinecolor": "#2a3f5f",
             "gridcolor": "white",
             "linecolor": "white",
             "minorgridcolor": "white",
             "startlinecolor": "#2a3f5f"
            },
            "type": "carpet"
           }
          ],
          "choropleth": [
           {
            "colorbar": {
             "outlinewidth": 0,
             "ticks": ""
            },
            "type": "choropleth"
           }
          ],
          "contour": [
           {
            "colorbar": {
             "outlinewidth": 0,
             "ticks": ""
            },
            "colorscale": [
             [
              0,
              "#0d0887"
             ],
             [
              0.1111111111111111,
              "#46039f"
             ],
             [
              0.2222222222222222,
              "#7201a8"
             ],
             [
              0.3333333333333333,
              "#9c179e"
             ],
             [
              0.4444444444444444,
              "#bd3786"
             ],
             [
              0.5555555555555556,
              "#d8576b"
             ],
             [
              0.6666666666666666,
              "#ed7953"
             ],
             [
              0.7777777777777778,
              "#fb9f3a"
             ],
             [
              0.8888888888888888,
              "#fdca26"
             ],
             [
              1,
              "#f0f921"
             ]
            ],
            "type": "contour"
           }
          ],
          "contourcarpet": [
           {
            "colorbar": {
             "outlinewidth": 0,
             "ticks": ""
            },
            "type": "contourcarpet"
           }
          ],
          "heatmap": [
           {
            "colorbar": {
             "outlinewidth": 0,
             "ticks": ""
            },
            "colorscale": [
             [
              0,
              "#0d0887"
             ],
             [
              0.1111111111111111,
              "#46039f"
             ],
             [
              0.2222222222222222,
              "#7201a8"
             ],
             [
              0.3333333333333333,
              "#9c179e"
             ],
             [
              0.4444444444444444,
              "#bd3786"
             ],
             [
              0.5555555555555556,
              "#d8576b"
             ],
             [
              0.6666666666666666,
              "#ed7953"
             ],
             [
              0.7777777777777778,
              "#fb9f3a"
             ],
             [
              0.8888888888888888,
              "#fdca26"
             ],
             [
              1,
              "#f0f921"
             ]
            ],
            "type": "heatmap"
           }
          ],
          "histogram": [
           {
            "marker": {
             "pattern": {
              "fillmode": "overlay",
              "size": 10,
              "solidity": 0.2
             }
            },
            "type": "histogram"
           }
          ],
          "histogram2d": [
           {
            "colorbar": {
             "outlinewidth": 0,
             "ticks": ""
            },
            "colorscale": [
             [
              0,
              "#0d0887"
             ],
             [
              0.1111111111111111,
              "#46039f"
             ],
             [
              0.2222222222222222,
              "#7201a8"
             ],
             [
              0.3333333333333333,
              "#9c179e"
             ],
             [
              0.4444444444444444,
              "#bd3786"
             ],
             [
              0.5555555555555556,
              "#d8576b"
             ],
             [
              0.6666666666666666,
              "#ed7953"
             ],
             [
              0.7777777777777778,
              "#fb9f3a"
             ],
             [
              0.8888888888888888,
              "#fdca26"
             ],
             [
              1,
              "#f0f921"
             ]
            ],
            "type": "histogram2d"
           }
          ],
          "histogram2dcontour": [
           {
            "colorbar": {
             "outlinewidth": 0,
             "ticks": ""
            },
            "colorscale": [
             [
              0,
              "#0d0887"
             ],
             [
              0.1111111111111111,
              "#46039f"
             ],
             [
              0.2222222222222222,
              "#7201a8"
             ],
             [
              0.3333333333333333,
              "#9c179e"
             ],
             [
              0.4444444444444444,
              "#bd3786"
             ],
             [
              0.5555555555555556,
              "#d8576b"
             ],
             [
              0.6666666666666666,
              "#ed7953"
             ],
             [
              0.7777777777777778,
              "#fb9f3a"
             ],
             [
              0.8888888888888888,
              "#fdca26"
             ],
             [
              1,
              "#f0f921"
             ]
            ],
            "type": "histogram2dcontour"
           }
          ],
          "mesh3d": [
           {
            "colorbar": {
             "outlinewidth": 0,
             "ticks": ""
            },
            "type": "mesh3d"
           }
          ],
          "parcoords": [
           {
            "line": {
             "colorbar": {
              "outlinewidth": 0,
              "ticks": ""
             }
            },
            "type": "parcoords"
           }
          ],
          "pie": [
           {
            "automargin": true,
            "type": "pie"
           }
          ],
          "scatter": [
           {
            "fillpattern": {
             "fillmode": "overlay",
             "size": 10,
             "solidity": 0.2
            },
            "type": "scatter"
           }
          ],
          "scatter3d": [
           {
            "line": {
             "colorbar": {
              "outlinewidth": 0,
              "ticks": ""
             }
            },
            "marker": {
             "colorbar": {
              "outlinewidth": 0,
              "ticks": ""
             }
            },
            "type": "scatter3d"
           }
          ],
          "scattercarpet": [
           {
            "marker": {
             "colorbar": {
              "outlinewidth": 0,
              "ticks": ""
             }
            },
            "type": "scattercarpet"
           }
          ],
          "scattergeo": [
           {
            "marker": {
             "colorbar": {
              "outlinewidth": 0,
              "ticks": ""
             }
            },
            "type": "scattergeo"
           }
          ],
          "scattergl": [
           {
            "marker": {
             "colorbar": {
              "outlinewidth": 0,
              "ticks": ""
             }
            },
            "type": "scattergl"
           }
          ],
          "scattermap": [
           {
            "marker": {
             "colorbar": {
              "outlinewidth": 0,
              "ticks": ""
             }
            },
            "type": "scattermap"
           }
          ],
          "scattermapbox": [
           {
            "marker": {
             "colorbar": {
              "outlinewidth": 0,
              "ticks": ""
             }
            },
            "type": "scattermapbox"
           }
          ],
          "scatterpolar": [
           {
            "marker": {
             "colorbar": {
              "outlinewidth": 0,
              "ticks": ""
             }
            },
            "type": "scatterpolar"
           }
          ],
          "scatterpolargl": [
           {
            "marker": {
             "colorbar": {
              "outlinewidth": 0,
              "ticks": ""
             }
            },
            "type": "scatterpolargl"
           }
          ],
          "scatterternary": [
           {
            "marker": {
             "colorbar": {
              "outlinewidth": 0,
              "ticks": ""
             }
            },
            "type": "scatterternary"
           }
          ],
          "surface": [
           {
            "colorbar": {
             "outlinewidth": 0,
             "ticks": ""
            },
            "colorscale": [
             [
              0,
              "#0d0887"
             ],
             [
              0.1111111111111111,
              "#46039f"
             ],
             [
              0.2222222222222222,
              "#7201a8"
             ],
             [
              0.3333333333333333,
              "#9c179e"
             ],
             [
              0.4444444444444444,
              "#bd3786"
             ],
             [
              0.5555555555555556,
              "#d8576b"
             ],
             [
              0.6666666666666666,
              "#ed7953"
             ],
             [
              0.7777777777777778,
              "#fb9f3a"
             ],
             [
              0.8888888888888888,
              "#fdca26"
             ],
             [
              1,
              "#f0f921"
             ]
            ],
            "type": "surface"
           }
          ],
          "table": [
           {
            "cells": {
             "fill": {
              "color": "#EBF0F8"
             },
             "line": {
              "color": "white"
             }
            },
            "header": {
             "fill": {
              "color": "#C8D4E3"
             },
             "line": {
              "color": "white"
             }
            },
            "type": "table"
           }
          ]
         },
         "layout": {
          "annotationdefaults": {
           "arrowcolor": "#2a3f5f",
           "arrowhead": 0,
           "arrowwidth": 1
          },
          "autotypenumbers": "strict",
          "coloraxis": {
           "colorbar": {
            "outlinewidth": 0,
            "ticks": ""
           }
          },
          "colorscale": {
           "diverging": [
            [
             0,
             "#8e0152"
            ],
            [
             0.1,
             "#c51b7d"
            ],
            [
             0.2,
             "#de77ae"
            ],
            [
             0.3,
             "#f1b6da"
            ],
            [
             0.4,
             "#fde0ef"
            ],
            [
             0.5,
             "#f7f7f7"
            ],
            [
             0.6,
             "#e6f5d0"
            ],
            [
             0.7,
             "#b8e186"
            ],
            [
             0.8,
             "#7fbc41"
            ],
            [
             0.9,
             "#4d9221"
            ],
            [
             1,
             "#276419"
            ]
           ],
           "sequential": [
            [
             0,
             "#0d0887"
            ],
            [
             0.1111111111111111,
             "#46039f"
            ],
            [
             0.2222222222222222,
             "#7201a8"
            ],
            [
             0.3333333333333333,
             "#9c179e"
            ],
            [
             0.4444444444444444,
             "#bd3786"
            ],
            [
             0.5555555555555556,
             "#d8576b"
            ],
            [
             0.6666666666666666,
             "#ed7953"
            ],
            [
             0.7777777777777778,
             "#fb9f3a"
            ],
            [
             0.8888888888888888,
             "#fdca26"
            ],
            [
             1,
             "#f0f921"
            ]
           ],
           "sequentialminus": [
            [
             0,
             "#0d0887"
            ],
            [
             0.1111111111111111,
             "#46039f"
            ],
            [
             0.2222222222222222,
             "#7201a8"
            ],
            [
             0.3333333333333333,
             "#9c179e"
            ],
            [
             0.4444444444444444,
             "#bd3786"
            ],
            [
             0.5555555555555556,
             "#d8576b"
            ],
            [
             0.6666666666666666,
             "#ed7953"
            ],
            [
             0.7777777777777778,
             "#fb9f3a"
            ],
            [
             0.8888888888888888,
             "#fdca26"
            ],
            [
             1,
             "#f0f921"
            ]
           ]
          },
          "colorway": [
           "#636efa",
           "#EF553B",
           "#00cc96",
           "#ab63fa",
           "#FFA15A",
           "#19d3f3",
           "#FF6692",
           "#B6E880",
           "#FF97FF",
           "#FECB52"
          ],
          "font": {
           "color": "#2a3f5f"
          },
          "geo": {
           "bgcolor": "white",
           "lakecolor": "white",
           "landcolor": "#E5ECF6",
           "showlakes": true,
           "showland": true,
           "subunitcolor": "white"
          },
          "hoverlabel": {
           "align": "left"
          },
          "hovermode": "closest",
          "mapbox": {
           "style": "light"
          },
          "paper_bgcolor": "white",
          "plot_bgcolor": "#E5ECF6",
          "polar": {
           "angularaxis": {
            "gridcolor": "white",
            "linecolor": "white",
            "ticks": ""
           },
           "bgcolor": "#E5ECF6",
           "radialaxis": {
            "gridcolor": "white",
            "linecolor": "white",
            "ticks": ""
           }
          },
          "scene": {
           "xaxis": {
            "backgroundcolor": "#E5ECF6",
            "gridcolor": "white",
            "gridwidth": 2,
            "linecolor": "white",
            "showbackground": true,
            "ticks": "",
            "zerolinecolor": "white"
           },
           "yaxis": {
            "backgroundcolor": "#E5ECF6",
            "gridcolor": "white",
            "gridwidth": 2,
            "linecolor": "white",
            "showbackground": true,
            "ticks": "",
            "zerolinecolor": "white"
           },
           "zaxis": {
            "backgroundcolor": "#E5ECF6",
            "gridcolor": "white",
            "gridwidth": 2,
            "linecolor": "white",
            "showbackground": true,
            "ticks": "",
            "zerolinecolor": "white"
           }
          },
          "shapedefaults": {
           "line": {
            "color": "#2a3f5f"
           }
          },
          "ternary": {
           "aaxis": {
            "gridcolor": "white",
            "linecolor": "white",
            "ticks": ""
           },
           "baxis": {
            "gridcolor": "white",
            "linecolor": "white",
            "ticks": ""
           },
           "bgcolor": "#E5ECF6",
           "caxis": {
            "gridcolor": "white",
            "linecolor": "white",
            "ticks": ""
           }
          },
          "title": {
           "x": 0.05
          },
          "xaxis": {
           "automargin": true,
           "gridcolor": "white",
           "linecolor": "white",
           "ticks": "",
           "title": {
            "standoff": 15
           },
           "zerolinecolor": "white",
           "zerolinewidth": 2
          },
          "yaxis": {
           "automargin": true,
           "gridcolor": "white",
           "linecolor": "white",
           "ticks": "",
           "title": {
            "standoff": 15
           },
           "zerolinecolor": "white",
           "zerolinewidth": 2
          }
         }
        },
        "title": {
         "text": "Top 10 poweplay phase batsmen"
        },
        "width": 800,
        "xaxis": {
         "anchor": "y",
         "domain": [
          0,
          1
         ],
         "tickangle": -45,
         "title": {
          "text": "Batsman"
         }
        },
        "yaxis": {
         "anchor": "x",
         "domain": [
          0,
          1
         ],
         "title": {
          "text": "Total runs made"
         }
        }
       }
      }
     },
     "metadata": {},
     "output_type": "display_data"
    }
   ],
   "source": [
    "data = {\n",
    "    'Batsman' : top_powerplay_batsman.head(10).index,\n",
    "    'Runs' : top_powerplay_batsman.head(10).values\n",
    "}\n",
    "\n",
    "df = pd.DataFrame(data)\n",
    "\n",
    "fig = px.bar(\n",
    "    df,\n",
    "    x='Batsman',\n",
    "    y='Runs',\n",
    "    title='Top 10 poweplay phase batsmen',\n",
    "    labels={'Runs': 'Total runs made'},\n",
    ")\n",
    "\n",
    "fig.update_xaxes(tickangle = -45)\n",
    "fig.update_traces(marker_color = 'purple')\n",
    "fig.update_layout(width = 800, height = 600, bargap = 0.05)\n",
    "fig.show()"
   ]
  },
  {
   "cell_type": "code",
   "execution_count": 25,
   "id": "91957ce0-123d-4ba2-bdf8-cad88bbb7d7a",
   "metadata": {},
   "outputs": [
    {
     "name": "stdout",
     "output_type": "stream",
     "text": [
      "batsman\n",
      "MS Dhoni          3292\n",
      "KA Pollard        2032\n",
      "KD Karthik        1904\n",
      "AB de Villiers    1868\n",
      "RA Jadeja         1680\n",
      "RG Sharma         1578\n",
      "V Kohli           1469\n",
      "AD Russell        1324\n",
      "DA Miller         1298\n",
      "HH Pandya         1290\n",
      "Name: batsman_runs, dtype: int64\n"
     ]
    }
   ],
   "source": [
    "# List of top batsman during death over phase.\n",
    "\n",
    "deathOver_data = ipl_data[(ipl_data['over'] >= 15) & (ipl_data['over'] <= 19)]\n",
    "top_deathOver_batsman = deathOver_data .groupby('batsman')\n",
    "top_deathOver_batsman = top_deathOver_batsman['batsman_runs'].sum().sort_values(ascending = False)\n",
    "\n",
    "print(top_deathOver_batsman.head(10))"
   ]
  },
  {
   "cell_type": "code",
   "execution_count": 26,
   "id": "441c0466-e5b5-4d8f-9a9e-d9144f4a2365",
   "metadata": {},
   "outputs": [
    {
     "data": {
      "application/vnd.plotly.v1+json": {
       "config": {
        "plotlyServerURL": "https://plot.ly"
       },
       "data": [
        {
         "hovertemplate": "Batsman=%{x}<br>Total runs made=%{y}<extra></extra>",
         "legendgroup": "",
         "marker": {
          "color": "blue",
          "pattern": {
           "shape": ""
          }
         },
         "name": "",
         "orientation": "v",
         "showlegend": false,
         "textposition": "auto",
         "type": "bar",
         "x": [
          "MS Dhoni",
          "KA Pollard",
          "KD Karthik",
          "AB de Villiers",
          "RA Jadeja",
          "RG Sharma",
          "V Kohli",
          "AD Russell",
          "DA Miller",
          "HH Pandya"
         ],
         "xaxis": "x",
         "y": {
          "bdata": "3AzwB3AHTAeQBioGvQUsBRIFCgU=",
          "dtype": "i2"
         },
         "yaxis": "y"
        }
       ],
       "layout": {
        "bargap": 0.05,
        "barmode": "relative",
        "height": 600,
        "legend": {
         "tracegroupgap": 0
        },
        "template": {
         "data": {
          "bar": [
           {
            "error_x": {
             "color": "#2a3f5f"
            },
            "error_y": {
             "color": "#2a3f5f"
            },
            "marker": {
             "line": {
              "color": "#E5ECF6",
              "width": 0.5
             },
             "pattern": {
              "fillmode": "overlay",
              "size": 10,
              "solidity": 0.2
             }
            },
            "type": "bar"
           }
          ],
          "barpolar": [
           {
            "marker": {
             "line": {
              "color": "#E5ECF6",
              "width": 0.5
             },
             "pattern": {
              "fillmode": "overlay",
              "size": 10,
              "solidity": 0.2
             }
            },
            "type": "barpolar"
           }
          ],
          "carpet": [
           {
            "aaxis": {
             "endlinecolor": "#2a3f5f",
             "gridcolor": "white",
             "linecolor": "white",
             "minorgridcolor": "white",
             "startlinecolor": "#2a3f5f"
            },
            "baxis": {
             "endlinecolor": "#2a3f5f",
             "gridcolor": "white",
             "linecolor": "white",
             "minorgridcolor": "white",
             "startlinecolor": "#2a3f5f"
            },
            "type": "carpet"
           }
          ],
          "choropleth": [
           {
            "colorbar": {
             "outlinewidth": 0,
             "ticks": ""
            },
            "type": "choropleth"
           }
          ],
          "contour": [
           {
            "colorbar": {
             "outlinewidth": 0,
             "ticks": ""
            },
            "colorscale": [
             [
              0,
              "#0d0887"
             ],
             [
              0.1111111111111111,
              "#46039f"
             ],
             [
              0.2222222222222222,
              "#7201a8"
             ],
             [
              0.3333333333333333,
              "#9c179e"
             ],
             [
              0.4444444444444444,
              "#bd3786"
             ],
             [
              0.5555555555555556,
              "#d8576b"
             ],
             [
              0.6666666666666666,
              "#ed7953"
             ],
             [
              0.7777777777777778,
              "#fb9f3a"
             ],
             [
              0.8888888888888888,
              "#fdca26"
             ],
             [
              1,
              "#f0f921"
             ]
            ],
            "type": "contour"
           }
          ],
          "contourcarpet": [
           {
            "colorbar": {
             "outlinewidth": 0,
             "ticks": ""
            },
            "type": "contourcarpet"
           }
          ],
          "heatmap": [
           {
            "colorbar": {
             "outlinewidth": 0,
             "ticks": ""
            },
            "colorscale": [
             [
              0,
              "#0d0887"
             ],
             [
              0.1111111111111111,
              "#46039f"
             ],
             [
              0.2222222222222222,
              "#7201a8"
             ],
             [
              0.3333333333333333,
              "#9c179e"
             ],
             [
              0.4444444444444444,
              "#bd3786"
             ],
             [
              0.5555555555555556,
              "#d8576b"
             ],
             [
              0.6666666666666666,
              "#ed7953"
             ],
             [
              0.7777777777777778,
              "#fb9f3a"
             ],
             [
              0.8888888888888888,
              "#fdca26"
             ],
             [
              1,
              "#f0f921"
             ]
            ],
            "type": "heatmap"
           }
          ],
          "histogram": [
           {
            "marker": {
             "pattern": {
              "fillmode": "overlay",
              "size": 10,
              "solidity": 0.2
             }
            },
            "type": "histogram"
           }
          ],
          "histogram2d": [
           {
            "colorbar": {
             "outlinewidth": 0,
             "ticks": ""
            },
            "colorscale": [
             [
              0,
              "#0d0887"
             ],
             [
              0.1111111111111111,
              "#46039f"
             ],
             [
              0.2222222222222222,
              "#7201a8"
             ],
             [
              0.3333333333333333,
              "#9c179e"
             ],
             [
              0.4444444444444444,
              "#bd3786"
             ],
             [
              0.5555555555555556,
              "#d8576b"
             ],
             [
              0.6666666666666666,
              "#ed7953"
             ],
             [
              0.7777777777777778,
              "#fb9f3a"
             ],
             [
              0.8888888888888888,
              "#fdca26"
             ],
             [
              1,
              "#f0f921"
             ]
            ],
            "type": "histogram2d"
           }
          ],
          "histogram2dcontour": [
           {
            "colorbar": {
             "outlinewidth": 0,
             "ticks": ""
            },
            "colorscale": [
             [
              0,
              "#0d0887"
             ],
             [
              0.1111111111111111,
              "#46039f"
             ],
             [
              0.2222222222222222,
              "#7201a8"
             ],
             [
              0.3333333333333333,
              "#9c179e"
             ],
             [
              0.4444444444444444,
              "#bd3786"
             ],
             [
              0.5555555555555556,
              "#d8576b"
             ],
             [
              0.6666666666666666,
              "#ed7953"
             ],
             [
              0.7777777777777778,
              "#fb9f3a"
             ],
             [
              0.8888888888888888,
              "#fdca26"
             ],
             [
              1,
              "#f0f921"
             ]
            ],
            "type": "histogram2dcontour"
           }
          ],
          "mesh3d": [
           {
            "colorbar": {
             "outlinewidth": 0,
             "ticks": ""
            },
            "type": "mesh3d"
           }
          ],
          "parcoords": [
           {
            "line": {
             "colorbar": {
              "outlinewidth": 0,
              "ticks": ""
             }
            },
            "type": "parcoords"
           }
          ],
          "pie": [
           {
            "automargin": true,
            "type": "pie"
           }
          ],
          "scatter": [
           {
            "fillpattern": {
             "fillmode": "overlay",
             "size": 10,
             "solidity": 0.2
            },
            "type": "scatter"
           }
          ],
          "scatter3d": [
           {
            "line": {
             "colorbar": {
              "outlinewidth": 0,
              "ticks": ""
             }
            },
            "marker": {
             "colorbar": {
              "outlinewidth": 0,
              "ticks": ""
             }
            },
            "type": "scatter3d"
           }
          ],
          "scattercarpet": [
           {
            "marker": {
             "colorbar": {
              "outlinewidth": 0,
              "ticks": ""
             }
            },
            "type": "scattercarpet"
           }
          ],
          "scattergeo": [
           {
            "marker": {
             "colorbar": {
              "outlinewidth": 0,
              "ticks": ""
             }
            },
            "type": "scattergeo"
           }
          ],
          "scattergl": [
           {
            "marker": {
             "colorbar": {
              "outlinewidth": 0,
              "ticks": ""
             }
            },
            "type": "scattergl"
           }
          ],
          "scattermap": [
           {
            "marker": {
             "colorbar": {
              "outlinewidth": 0,
              "ticks": ""
             }
            },
            "type": "scattermap"
           }
          ],
          "scattermapbox": [
           {
            "marker": {
             "colorbar": {
              "outlinewidth": 0,
              "ticks": ""
             }
            },
            "type": "scattermapbox"
           }
          ],
          "scatterpolar": [
           {
            "marker": {
             "colorbar": {
              "outlinewidth": 0,
              "ticks": ""
             }
            },
            "type": "scatterpolar"
           }
          ],
          "scatterpolargl": [
           {
            "marker": {
             "colorbar": {
              "outlinewidth": 0,
              "ticks": ""
             }
            },
            "type": "scatterpolargl"
           }
          ],
          "scatterternary": [
           {
            "marker": {
             "colorbar": {
              "outlinewidth": 0,
              "ticks": ""
             }
            },
            "type": "scatterternary"
           }
          ],
          "surface": [
           {
            "colorbar": {
             "outlinewidth": 0,
             "ticks": ""
            },
            "colorscale": [
             [
              0,
              "#0d0887"
             ],
             [
              0.1111111111111111,
              "#46039f"
             ],
             [
              0.2222222222222222,
              "#7201a8"
             ],
             [
              0.3333333333333333,
              "#9c179e"
             ],
             [
              0.4444444444444444,
              "#bd3786"
             ],
             [
              0.5555555555555556,
              "#d8576b"
             ],
             [
              0.6666666666666666,
              "#ed7953"
             ],
             [
              0.7777777777777778,
              "#fb9f3a"
             ],
             [
              0.8888888888888888,
              "#fdca26"
             ],
             [
              1,
              "#f0f921"
             ]
            ],
            "type": "surface"
           }
          ],
          "table": [
           {
            "cells": {
             "fill": {
              "color": "#EBF0F8"
             },
             "line": {
              "color": "white"
             }
            },
            "header": {
             "fill": {
              "color": "#C8D4E3"
             },
             "line": {
              "color": "white"
             }
            },
            "type": "table"
           }
          ]
         },
         "layout": {
          "annotationdefaults": {
           "arrowcolor": "#2a3f5f",
           "arrowhead": 0,
           "arrowwidth": 1
          },
          "autotypenumbers": "strict",
          "coloraxis": {
           "colorbar": {
            "outlinewidth": 0,
            "ticks": ""
           }
          },
          "colorscale": {
           "diverging": [
            [
             0,
             "#8e0152"
            ],
            [
             0.1,
             "#c51b7d"
            ],
            [
             0.2,
             "#de77ae"
            ],
            [
             0.3,
             "#f1b6da"
            ],
            [
             0.4,
             "#fde0ef"
            ],
            [
             0.5,
             "#f7f7f7"
            ],
            [
             0.6,
             "#e6f5d0"
            ],
            [
             0.7,
             "#b8e186"
            ],
            [
             0.8,
             "#7fbc41"
            ],
            [
             0.9,
             "#4d9221"
            ],
            [
             1,
             "#276419"
            ]
           ],
           "sequential": [
            [
             0,
             "#0d0887"
            ],
            [
             0.1111111111111111,
             "#46039f"
            ],
            [
             0.2222222222222222,
             "#7201a8"
            ],
            [
             0.3333333333333333,
             "#9c179e"
            ],
            [
             0.4444444444444444,
             "#bd3786"
            ],
            [
             0.5555555555555556,
             "#d8576b"
            ],
            [
             0.6666666666666666,
             "#ed7953"
            ],
            [
             0.7777777777777778,
             "#fb9f3a"
            ],
            [
             0.8888888888888888,
             "#fdca26"
            ],
            [
             1,
             "#f0f921"
            ]
           ],
           "sequentialminus": [
            [
             0,
             "#0d0887"
            ],
            [
             0.1111111111111111,
             "#46039f"
            ],
            [
             0.2222222222222222,
             "#7201a8"
            ],
            [
             0.3333333333333333,
             "#9c179e"
            ],
            [
             0.4444444444444444,
             "#bd3786"
            ],
            [
             0.5555555555555556,
             "#d8576b"
            ],
            [
             0.6666666666666666,
             "#ed7953"
            ],
            [
             0.7777777777777778,
             "#fb9f3a"
            ],
            [
             0.8888888888888888,
             "#fdca26"
            ],
            [
             1,
             "#f0f921"
            ]
           ]
          },
          "colorway": [
           "#636efa",
           "#EF553B",
           "#00cc96",
           "#ab63fa",
           "#FFA15A",
           "#19d3f3",
           "#FF6692",
           "#B6E880",
           "#FF97FF",
           "#FECB52"
          ],
          "font": {
           "color": "#2a3f5f"
          },
          "geo": {
           "bgcolor": "white",
           "lakecolor": "white",
           "landcolor": "#E5ECF6",
           "showlakes": true,
           "showland": true,
           "subunitcolor": "white"
          },
          "hoverlabel": {
           "align": "left"
          },
          "hovermode": "closest",
          "mapbox": {
           "style": "light"
          },
          "paper_bgcolor": "white",
          "plot_bgcolor": "#E5ECF6",
          "polar": {
           "angularaxis": {
            "gridcolor": "white",
            "linecolor": "white",
            "ticks": ""
           },
           "bgcolor": "#E5ECF6",
           "radialaxis": {
            "gridcolor": "white",
            "linecolor": "white",
            "ticks": ""
           }
          },
          "scene": {
           "xaxis": {
            "backgroundcolor": "#E5ECF6",
            "gridcolor": "white",
            "gridwidth": 2,
            "linecolor": "white",
            "showbackground": true,
            "ticks": "",
            "zerolinecolor": "white"
           },
           "yaxis": {
            "backgroundcolor": "#E5ECF6",
            "gridcolor": "white",
            "gridwidth": 2,
            "linecolor": "white",
            "showbackground": true,
            "ticks": "",
            "zerolinecolor": "white"
           },
           "zaxis": {
            "backgroundcolor": "#E5ECF6",
            "gridcolor": "white",
            "gridwidth": 2,
            "linecolor": "white",
            "showbackground": true,
            "ticks": "",
            "zerolinecolor": "white"
           }
          },
          "shapedefaults": {
           "line": {
            "color": "#2a3f5f"
           }
          },
          "ternary": {
           "aaxis": {
            "gridcolor": "white",
            "linecolor": "white",
            "ticks": ""
           },
           "baxis": {
            "gridcolor": "white",
            "linecolor": "white",
            "ticks": ""
           },
           "bgcolor": "#E5ECF6",
           "caxis": {
            "gridcolor": "white",
            "linecolor": "white",
            "ticks": ""
           }
          },
          "title": {
           "x": 0.05
          },
          "xaxis": {
           "automargin": true,
           "gridcolor": "white",
           "linecolor": "white",
           "ticks": "",
           "title": {
            "standoff": 15
           },
           "zerolinecolor": "white",
           "zerolinewidth": 2
          },
          "yaxis": {
           "automargin": true,
           "gridcolor": "white",
           "linecolor": "white",
           "ticks": "",
           "title": {
            "standoff": 15
           },
           "zerolinecolor": "white",
           "zerolinewidth": 2
          }
         }
        },
        "title": {
         "text": "Top 10 death over phase batsmen"
        },
        "width": 800,
        "xaxis": {
         "anchor": "y",
         "domain": [
          0,
          1
         ],
         "tickangle": -45,
         "title": {
          "text": "Batsman"
         }
        },
        "yaxis": {
         "anchor": "x",
         "domain": [
          0,
          1
         ],
         "title": {
          "text": "Total runs made"
         }
        }
       }
      }
     },
     "metadata": {},
     "output_type": "display_data"
    }
   ],
   "source": [
    "data = {\n",
    "    'Batsman' : top_deathOver_batsman.head(10).index,\n",
    "    'Runs' : top_deathOver_batsman.head(10).values\n",
    "}\n",
    "\n",
    "df = pd.DataFrame(data)\n",
    "\n",
    "fig = px.bar(\n",
    "    df,\n",
    "    x='Batsman',\n",
    "    y='Runs',\n",
    "    title='Top 10 death over phase batsmen',\n",
    "    labels={'Runs': 'Total runs made'},\n",
    ")\n",
    "\n",
    "fig.update_xaxes(tickangle = -45)\n",
    "fig.update_traces(marker_color = 'blue')\n",
    "fig.update_layout(width = 800, height = 600, bargap = 0.05)\n",
    "fig.show()"
   ]
  },
  {
   "cell_type": "code",
   "execution_count": 27,
   "id": "b06ffcbc-1d5b-44ae-835d-bcaaf7dc9f11",
   "metadata": {},
   "outputs": [
    {
     "name": "stdout",
     "output_type": "stream",
     "text": [
      "matchId  batsman        \n",
      "335982   AA Noffke            9\n",
      "         B Akhil              0\n",
      "         BB McCullum        158\n",
      "         CL White             6\n",
      "         DJ Hussey           12\n",
      "         JH Kallis            8\n",
      "         MV Boucher           7\n",
      "         Mohammad Hafeez      5\n",
      "         P Kumar             18\n",
      "         R Dravid             2\n",
      "         RT Ponting          20\n",
      "         SB Joshi             3\n",
      "         SC Ganguly          10\n",
      "         V Kohli              1\n",
      "         W Jaffer             6\n",
      "         Z Khan               3\n",
      "335983   IK Pathan            3\n",
      "         JDP Oram            13\n",
      "         JR Hopes            71\n",
      "         K Goel              24\n",
      "         KC Sangakkara       54\n",
      "         MEK Hussey         116\n",
      "         ML Hayden           25\n",
      "         MS Dhoni             2\n",
      "         PA Patel            15\n",
      "         S Badrinath         31\n",
      "         SK Raina            32\n",
      "         SM Katich           21\n",
      "         Yuvraj Singh        23\n",
      "Name: batsman_runs, dtype: int64\n"
     ]
    }
   ],
   "source": [
    "# Runs made by each batsman grouped by match.\n",
    "\n",
    "match_runs = ipl_data.groupby(['matchId', 'batsman'])['batsman_runs'].sum()\n",
    "\n",
    "print(match_runs.head(29))"
   ]
  },
  {
   "cell_type": "code",
   "execution_count": 28,
   "id": "3713b9ce-4e3b-41b6-90b3-e9626cb4aa9c",
   "metadata": {},
   "outputs": [
    {
     "name": "stdout",
     "output_type": "stream",
     "text": [
      "matchId  batsman       \n",
      "335982   BB McCullum       158\n",
      "335983   MEK Hussey        116\n",
      "335990   A Symonds         117\n",
      "335994   AC Gilchrist      109\n",
      "336018   ST Jayasuriya     114\n",
      "336019   SE Marsh          115\n",
      "392189   AB de Villiers    105\n",
      "392236   MK Pandey         114\n",
      "419107   YK Pathan         100\n",
      "419131   DA Warner         107\n",
      "Name: batsman_runs, dtype: int64\n"
     ]
    }
   ],
   "source": [
    "# List of batsman that made a 100+ runs in each match.\n",
    "\n",
    "century_runs = match_runs[match_runs >= 100]\n",
    "print(century_runs.head(10))"
   ]
  },
  {
   "cell_type": "code",
   "execution_count": 29,
   "id": "a43676ad-1375-4a9e-8b8b-2b231828c541",
   "metadata": {},
   "outputs": [
    {
     "name": "stdout",
     "output_type": "stream",
     "text": [
      "matchId  batsman        \n",
      "335982   AA Noffke          12\n",
      "         B Akhil             2\n",
      "         BB McCullum        77\n",
      "         CL White           10\n",
      "         DJ Hussey          12\n",
      "         JH Kallis           7\n",
      "         MV Boucher         11\n",
      "         Mohammad Hafeez     3\n",
      "         P Kumar            17\n",
      "         R Dravid            3\n",
      "         RT Ponting         20\n",
      "         SB Joshi            8\n",
      "         SC Ganguly         12\n",
      "         V Kohli             5\n",
      "         W Jaffer           18\n",
      "         Z Khan              8\n",
      "335983   IK Pathan           5\n",
      "         JDP Oram           11\n",
      "         JR Hopes           34\n",
      "         K Goel             20\n",
      "         KC Sangakkara      35\n",
      "         MEK Hussey         54\n",
      "         ML Hayden          17\n",
      "         MS Dhoni            3\n",
      "         PA Patel           11\n",
      "         S Badrinath        14\n",
      "         SK Raina           14\n",
      "         SM Katich          17\n",
      "         Yuvraj Singh       13\n",
      "dtype: int64\n"
     ]
    }
   ],
   "source": [
    "# List of balls played by each batsman during a match.\n",
    "\n",
    "match_balls = ipl_data.groupby(['matchId', 'batsman']).size()\n",
    "\n",
    "print(match_balls.head(29))"
   ]
  },
  {
   "cell_type": "code",
   "execution_count": 30,
   "id": "0df4998d-6d1a-4322-a1df-3e9159f0a731",
   "metadata": {},
   "outputs": [
    {
     "name": "stdin",
     "output_type": "stream",
     "text": [
      "Enter matchID to find strike rate of each player:  335982\n"
     ]
    }
   ],
   "source": [
    "# Function to calculate strike rate of each batsman for a match.\n",
    "\n",
    "def calcSR(matchID):\n",
    "    strike_rate = (match_runs[matchID] / match_balls[matchID]) * 100\n",
    "    return strike_rate\n",
    "    \n",
    "matchID = int(input(\"Enter matchID to find strike rate of each player: \"))    \n",
    "sr = calcSR(matchID)"
   ]
  },
  {
   "cell_type": "code",
   "execution_count": 34,
   "id": "03eb7170-0e93-43e6-87f6-b980aeb1de62",
   "metadata": {},
   "outputs": [
    {
     "data": {
      "application/vnd.plotly.v1+json": {
       "config": {
        "plotlyServerURL": "https://plot.ly"
       },
       "data": [
        {
         "hovertemplate": "Batsman=%{x}<br>Strike Rate=%{y}<extra></extra>",
         "legendgroup": "",
         "line": {
          "color": "#636efa",
          "dash": "solid"
         },
         "marker": {
          "color": "blue",
          "symbol": "circle"
         },
         "mode": "lines+markers",
         "name": "",
         "orientation": "v",
         "showlegend": false,
         "type": "scatter",
         "x": [
          "AA Noffke",
          "B Akhil",
          "BB McCullum",
          "CL White",
          "DJ Hussey",
          "JH Kallis",
          "MV Boucher",
          "Mohammad Hafeez",
          "P Kumar",
          "R Dravid"
         ],
         "xaxis": "x",
         "y": {
          "bdata": "AAAAAADAUkAAAAAAAAAAAO+YGtg7pmlAAAAAAAAATkAAAAAAAABZQCRJkiRJklxA0UUXXXTRT0BWVVVVVdVkQHl4eHh4eFpAqqqqqqqqUEA=",
          "dtype": "f8"
         },
         "yaxis": "y"
        }
       ],
       "layout": {
        "bargap": 0.05,
        "height": 600,
        "legend": {
         "tracegroupgap": 0
        },
        "template": {
         "data": {
          "bar": [
           {
            "error_x": {
             "color": "#2a3f5f"
            },
            "error_y": {
             "color": "#2a3f5f"
            },
            "marker": {
             "line": {
              "color": "#E5ECF6",
              "width": 0.5
             },
             "pattern": {
              "fillmode": "overlay",
              "size": 10,
              "solidity": 0.2
             }
            },
            "type": "bar"
           }
          ],
          "barpolar": [
           {
            "marker": {
             "line": {
              "color": "#E5ECF6",
              "width": 0.5
             },
             "pattern": {
              "fillmode": "overlay",
              "size": 10,
              "solidity": 0.2
             }
            },
            "type": "barpolar"
           }
          ],
          "carpet": [
           {
            "aaxis": {
             "endlinecolor": "#2a3f5f",
             "gridcolor": "white",
             "linecolor": "white",
             "minorgridcolor": "white",
             "startlinecolor": "#2a3f5f"
            },
            "baxis": {
             "endlinecolor": "#2a3f5f",
             "gridcolor": "white",
             "linecolor": "white",
             "minorgridcolor": "white",
             "startlinecolor": "#2a3f5f"
            },
            "type": "carpet"
           }
          ],
          "choropleth": [
           {
            "colorbar": {
             "outlinewidth": 0,
             "ticks": ""
            },
            "type": "choropleth"
           }
          ],
          "contour": [
           {
            "colorbar": {
             "outlinewidth": 0,
             "ticks": ""
            },
            "colorscale": [
             [
              0,
              "#0d0887"
             ],
             [
              0.1111111111111111,
              "#46039f"
             ],
             [
              0.2222222222222222,
              "#7201a8"
             ],
             [
              0.3333333333333333,
              "#9c179e"
             ],
             [
              0.4444444444444444,
              "#bd3786"
             ],
             [
              0.5555555555555556,
              "#d8576b"
             ],
             [
              0.6666666666666666,
              "#ed7953"
             ],
             [
              0.7777777777777778,
              "#fb9f3a"
             ],
             [
              0.8888888888888888,
              "#fdca26"
             ],
             [
              1,
              "#f0f921"
             ]
            ],
            "type": "contour"
           }
          ],
          "contourcarpet": [
           {
            "colorbar": {
             "outlinewidth": 0,
             "ticks": ""
            },
            "type": "contourcarpet"
           }
          ],
          "heatmap": [
           {
            "colorbar": {
             "outlinewidth": 0,
             "ticks": ""
            },
            "colorscale": [
             [
              0,
              "#0d0887"
             ],
             [
              0.1111111111111111,
              "#46039f"
             ],
             [
              0.2222222222222222,
              "#7201a8"
             ],
             [
              0.3333333333333333,
              "#9c179e"
             ],
             [
              0.4444444444444444,
              "#bd3786"
             ],
             [
              0.5555555555555556,
              "#d8576b"
             ],
             [
              0.6666666666666666,
              "#ed7953"
             ],
             [
              0.7777777777777778,
              "#fb9f3a"
             ],
             [
              0.8888888888888888,
              "#fdca26"
             ],
             [
              1,
              "#f0f921"
             ]
            ],
            "type": "heatmap"
           }
          ],
          "histogram": [
           {
            "marker": {
             "pattern": {
              "fillmode": "overlay",
              "size": 10,
              "solidity": 0.2
             }
            },
            "type": "histogram"
           }
          ],
          "histogram2d": [
           {
            "colorbar": {
             "outlinewidth": 0,
             "ticks": ""
            },
            "colorscale": [
             [
              0,
              "#0d0887"
             ],
             [
              0.1111111111111111,
              "#46039f"
             ],
             [
              0.2222222222222222,
              "#7201a8"
             ],
             [
              0.3333333333333333,
              "#9c179e"
             ],
             [
              0.4444444444444444,
              "#bd3786"
             ],
             [
              0.5555555555555556,
              "#d8576b"
             ],
             [
              0.6666666666666666,
              "#ed7953"
             ],
             [
              0.7777777777777778,
              "#fb9f3a"
             ],
             [
              0.8888888888888888,
              "#fdca26"
             ],
             [
              1,
              "#f0f921"
             ]
            ],
            "type": "histogram2d"
           }
          ],
          "histogram2dcontour": [
           {
            "colorbar": {
             "outlinewidth": 0,
             "ticks": ""
            },
            "colorscale": [
             [
              0,
              "#0d0887"
             ],
             [
              0.1111111111111111,
              "#46039f"
             ],
             [
              0.2222222222222222,
              "#7201a8"
             ],
             [
              0.3333333333333333,
              "#9c179e"
             ],
             [
              0.4444444444444444,
              "#bd3786"
             ],
             [
              0.5555555555555556,
              "#d8576b"
             ],
             [
              0.6666666666666666,
              "#ed7953"
             ],
             [
              0.7777777777777778,
              "#fb9f3a"
             ],
             [
              0.8888888888888888,
              "#fdca26"
             ],
             [
              1,
              "#f0f921"
             ]
            ],
            "type": "histogram2dcontour"
           }
          ],
          "mesh3d": [
           {
            "colorbar": {
             "outlinewidth": 0,
             "ticks": ""
            },
            "type": "mesh3d"
           }
          ],
          "parcoords": [
           {
            "line": {
             "colorbar": {
              "outlinewidth": 0,
              "ticks": ""
             }
            },
            "type": "parcoords"
           }
          ],
          "pie": [
           {
            "automargin": true,
            "type": "pie"
           }
          ],
          "scatter": [
           {
            "fillpattern": {
             "fillmode": "overlay",
             "size": 10,
             "solidity": 0.2
            },
            "type": "scatter"
           }
          ],
          "scatter3d": [
           {
            "line": {
             "colorbar": {
              "outlinewidth": 0,
              "ticks": ""
             }
            },
            "marker": {
             "colorbar": {
              "outlinewidth": 0,
              "ticks": ""
             }
            },
            "type": "scatter3d"
           }
          ],
          "scattercarpet": [
           {
            "marker": {
             "colorbar": {
              "outlinewidth": 0,
              "ticks": ""
             }
            },
            "type": "scattercarpet"
           }
          ],
          "scattergeo": [
           {
            "marker": {
             "colorbar": {
              "outlinewidth": 0,
              "ticks": ""
             }
            },
            "type": "scattergeo"
           }
          ],
          "scattergl": [
           {
            "marker": {
             "colorbar": {
              "outlinewidth": 0,
              "ticks": ""
             }
            },
            "type": "scattergl"
           }
          ],
          "scattermap": [
           {
            "marker": {
             "colorbar": {
              "outlinewidth": 0,
              "ticks": ""
             }
            },
            "type": "scattermap"
           }
          ],
          "scattermapbox": [
           {
            "marker": {
             "colorbar": {
              "outlinewidth": 0,
              "ticks": ""
             }
            },
            "type": "scattermapbox"
           }
          ],
          "scatterpolar": [
           {
            "marker": {
             "colorbar": {
              "outlinewidth": 0,
              "ticks": ""
             }
            },
            "type": "scatterpolar"
           }
          ],
          "scatterpolargl": [
           {
            "marker": {
             "colorbar": {
              "outlinewidth": 0,
              "ticks": ""
             }
            },
            "type": "scatterpolargl"
           }
          ],
          "scatterternary": [
           {
            "marker": {
             "colorbar": {
              "outlinewidth": 0,
              "ticks": ""
             }
            },
            "type": "scatterternary"
           }
          ],
          "surface": [
           {
            "colorbar": {
             "outlinewidth": 0,
             "ticks": ""
            },
            "colorscale": [
             [
              0,
              "#0d0887"
             ],
             [
              0.1111111111111111,
              "#46039f"
             ],
             [
              0.2222222222222222,
              "#7201a8"
             ],
             [
              0.3333333333333333,
              "#9c179e"
             ],
             [
              0.4444444444444444,
              "#bd3786"
             ],
             [
              0.5555555555555556,
              "#d8576b"
             ],
             [
              0.6666666666666666,
              "#ed7953"
             ],
             [
              0.7777777777777778,
              "#fb9f3a"
             ],
             [
              0.8888888888888888,
              "#fdca26"
             ],
             [
              1,
              "#f0f921"
             ]
            ],
            "type": "surface"
           }
          ],
          "table": [
           {
            "cells": {
             "fill": {
              "color": "#EBF0F8"
             },
             "line": {
              "color": "white"
             }
            },
            "header": {
             "fill": {
              "color": "#C8D4E3"
             },
             "line": {
              "color": "white"
             }
            },
            "type": "table"
           }
          ]
         },
         "layout": {
          "annotationdefaults": {
           "arrowcolor": "#2a3f5f",
           "arrowhead": 0,
           "arrowwidth": 1
          },
          "autotypenumbers": "strict",
          "coloraxis": {
           "colorbar": {
            "outlinewidth": 0,
            "ticks": ""
           }
          },
          "colorscale": {
           "diverging": [
            [
             0,
             "#8e0152"
            ],
            [
             0.1,
             "#c51b7d"
            ],
            [
             0.2,
             "#de77ae"
            ],
            [
             0.3,
             "#f1b6da"
            ],
            [
             0.4,
             "#fde0ef"
            ],
            [
             0.5,
             "#f7f7f7"
            ],
            [
             0.6,
             "#e6f5d0"
            ],
            [
             0.7,
             "#b8e186"
            ],
            [
             0.8,
             "#7fbc41"
            ],
            [
             0.9,
             "#4d9221"
            ],
            [
             1,
             "#276419"
            ]
           ],
           "sequential": [
            [
             0,
             "#0d0887"
            ],
            [
             0.1111111111111111,
             "#46039f"
            ],
            [
             0.2222222222222222,
             "#7201a8"
            ],
            [
             0.3333333333333333,
             "#9c179e"
            ],
            [
             0.4444444444444444,
             "#bd3786"
            ],
            [
             0.5555555555555556,
             "#d8576b"
            ],
            [
             0.6666666666666666,
             "#ed7953"
            ],
            [
             0.7777777777777778,
             "#fb9f3a"
            ],
            [
             0.8888888888888888,
             "#fdca26"
            ],
            [
             1,
             "#f0f921"
            ]
           ],
           "sequentialminus": [
            [
             0,
             "#0d0887"
            ],
            [
             0.1111111111111111,
             "#46039f"
            ],
            [
             0.2222222222222222,
             "#7201a8"
            ],
            [
             0.3333333333333333,
             "#9c179e"
            ],
            [
             0.4444444444444444,
             "#bd3786"
            ],
            [
             0.5555555555555556,
             "#d8576b"
            ],
            [
             0.6666666666666666,
             "#ed7953"
            ],
            [
             0.7777777777777778,
             "#fb9f3a"
            ],
            [
             0.8888888888888888,
             "#fdca26"
            ],
            [
             1,
             "#f0f921"
            ]
           ]
          },
          "colorway": [
           "#636efa",
           "#EF553B",
           "#00cc96",
           "#ab63fa",
           "#FFA15A",
           "#19d3f3",
           "#FF6692",
           "#B6E880",
           "#FF97FF",
           "#FECB52"
          ],
          "font": {
           "color": "#2a3f5f"
          },
          "geo": {
           "bgcolor": "white",
           "lakecolor": "white",
           "landcolor": "#E5ECF6",
           "showlakes": true,
           "showland": true,
           "subunitcolor": "white"
          },
          "hoverlabel": {
           "align": "left"
          },
          "hovermode": "closest",
          "mapbox": {
           "style": "light"
          },
          "paper_bgcolor": "white",
          "plot_bgcolor": "#E5ECF6",
          "polar": {
           "angularaxis": {
            "gridcolor": "white",
            "linecolor": "white",
            "ticks": ""
           },
           "bgcolor": "#E5ECF6",
           "radialaxis": {
            "gridcolor": "white",
            "linecolor": "white",
            "ticks": ""
           }
          },
          "scene": {
           "xaxis": {
            "backgroundcolor": "#E5ECF6",
            "gridcolor": "white",
            "gridwidth": 2,
            "linecolor": "white",
            "showbackground": true,
            "ticks": "",
            "zerolinecolor": "white"
           },
           "yaxis": {
            "backgroundcolor": "#E5ECF6",
            "gridcolor": "white",
            "gridwidth": 2,
            "linecolor": "white",
            "showbackground": true,
            "ticks": "",
            "zerolinecolor": "white"
           },
           "zaxis": {
            "backgroundcolor": "#E5ECF6",
            "gridcolor": "white",
            "gridwidth": 2,
            "linecolor": "white",
            "showbackground": true,
            "ticks": "",
            "zerolinecolor": "white"
           }
          },
          "shapedefaults": {
           "line": {
            "color": "#2a3f5f"
           }
          },
          "ternary": {
           "aaxis": {
            "gridcolor": "white",
            "linecolor": "white",
            "ticks": ""
           },
           "baxis": {
            "gridcolor": "white",
            "linecolor": "white",
            "ticks": ""
           },
           "bgcolor": "#E5ECF6",
           "caxis": {
            "gridcolor": "white",
            "linecolor": "white",
            "ticks": ""
           }
          },
          "title": {
           "x": 0.05
          },
          "xaxis": {
           "automargin": true,
           "gridcolor": "white",
           "linecolor": "white",
           "ticks": "",
           "title": {
            "standoff": 15
           },
           "zerolinecolor": "white",
           "zerolinewidth": 2
          },
          "yaxis": {
           "automargin": true,
           "gridcolor": "white",
           "linecolor": "white",
           "ticks": "",
           "title": {
            "standoff": 15
           },
           "zerolinecolor": "white",
           "zerolinewidth": 2
          }
         }
        },
        "title": {
         "text": "Strike rate of players"
        },
        "width": 800,
        "xaxis": {
         "anchor": "y",
         "domain": [
          0,
          1
         ],
         "tickangle": -45,
         "title": {
          "text": "Batsman"
         }
        },
        "yaxis": {
         "anchor": "x",
         "domain": [
          0,
          1
         ],
         "title": {
          "text": "Strike Rate"
         }
        }
       }
      },
      "image/png": "[encoded data removed]"
     },
     "metadata": {},
     "output_type": "display_data"
    }
   ],
   "source": [
    "data = {\n",
    "    'Batsman' : sr.head(10).index,\n",
    "    'Strike Rate' : sr.head(10).values\n",
    "}\n",
    "\n",
    "df = pd.DataFrame(data)\n",
    "\n",
    "fig = px.line(\n",
    "    df,\n",
    "    x='Batsman',\n",
    "    y='Strike Rate',\n",
    "    title='Strike rate of players',\n",
    "    markers = True\n",
    ")\n",
    "\n",
    "fig.update_xaxes(tickangle = -45)\n",
    "fig.update_traces(marker_color = 'blue')\n",
    "fig.update_layout(width = 800, height = 600, bargap = 0.05)\n",
    "fig.show()"
   ]
  },
  {
   "cell_type": "code",
   "execution_count": 35,
   "id": "1601b55d-2572-41c9-ba02-c520fa741ae3",
   "metadata": {},
   "outputs": [
    {
     "name": "stdout",
     "output_type": "stream",
     "text": [
      "1095\n"
     ]
    }
   ],
   "source": [
    "# Total number of matches in dataset.\n",
    "\n",
    "matches = ipl_data['matchId'].unique()\n",
    "print(len(matches))"
   ]
  },
  {
   "cell_type": "code",
   "execution_count": 36,
   "id": "91533fbe-3a1e-4eab-8f62-71226ce9511b",
   "metadata": {},
   "outputs": [
    {
     "name": "stdout",
     "output_type": "stream",
     "text": [
      "year\n",
      "2008    58\n",
      "2009    57\n",
      "2010    60\n",
      "2011    73\n",
      "2012    74\n",
      "2013    76\n",
      "2014    60\n",
      "2015    59\n",
      "2016    60\n",
      "2017    59\n",
      "2018    60\n",
      "2019    60\n",
      "2020    60\n",
      "2021    60\n",
      "2022    74\n",
      "2023    74\n",
      "2024    71\n",
      "Name: matchId, dtype: int64\n"
     ]
    }
   ],
   "source": [
    "# Number of matches played per year.\n",
    "\n",
    "ipl_data['year'] = ipl_data['date'].dt.year\n",
    "matches_per_year = ipl_data.groupby('year')['matchId'].nunique()\n",
    "print(matches_per_year)"
   ]
  },
  {
   "cell_type": "code",
   "execution_count": 37,
   "id": "7a6efcfc-b27c-4037-9930-bc5bd2b72710",
   "metadata": {},
   "outputs": [
    {
     "data": {
      "image/png": "[encoded data removed]",
      "text/plain": [
       "<Figure size 1200x700 with 1 Axes>"
      ]
     },
     "metadata": {},
     "output_type": "display_data"
    }
   ],
   "source": [
    "plt.figure(figsize=(12, 7))\n",
    "\n",
    "ax = sns.lineplot(x = matches_per_year.index, y = matches_per_year.values, color='pink', marker = 'o')\n",
    "\n",
    "ax.set_title('Number of matches played per year', fontsize=16)\n",
    "ax.set_xlabel('Year', fontsize=12)\n",
    "ax.set_ylabel('Number of matches', fontsize=12)\n",
    "\n",
    "plt.show()"
   ]
  },
  {
   "cell_type": "code",
   "execution_count": 38,
   "id": "491e717e-4dab-4e69-854b-8efd86746c27",
   "metadata": {},
   "outputs": [
    {
     "name": "stdout",
     "output_type": "stream",
     "text": [
      "batting_team\n",
      "Mumbai Indians                 39946\n",
      "Royal Challengers Bangalore    38599\n",
      "Punjab Kings                   37583\n",
      "Delhi Capitals                 37251\n",
      "Kolkata Knight Riders          37149\n",
      "Chennai Super Kings            36739\n",
      "Rajasthan Royals               33074\n",
      "Sunrisers Hyderabad            27641\n",
      "Deccan Chargers                10885\n",
      "Gujarat Titans                  7357\n",
      "Lucknow Super Giants            7081\n",
      "Pune Warriors                   6040\n",
      "Gujarat Lions                   4629\n",
      "Rising Pune Supergiant          4332\n",
      "Kochi Tuskers Kerala            1758\n",
      "Name: batsman_runs, dtype: int64\n"
     ]
    }
   ],
   "source": [
    "# Total number of runs made by each team in IPL from 2008 to 2024.\n",
    "\n",
    "team_runs = ipl_data.groupby('batting_team')['batsman_runs'].sum().sort_values(ascending = False)\n",
    "print(team_runs)"
   ]
  },
  {
   "cell_type": "code",
   "execution_count": 39,
   "id": "743066e9-fdd4-4828-af2b-5f42a7debadd",
   "metadata": {},
   "outputs": [
    {
     "name": "stdout",
     "output_type": "stream",
     "text": [
      "year  batting_team               \n",
      "2024  Chennai Super Kings            2405\n",
      "      Delhi Capitals                 2465\n",
      "      Gujarat Titans                 1934\n",
      "      Kolkata Knight Riders          2481\n",
      "      Lucknow Super Giants           2350\n",
      "      Mumbai Indians                 2422\n",
      "      Punjab Kings                   2372\n",
      "      Rajasthan Royals               2533\n",
      "      Royal Challengers Bangalore    2789\n",
      "      Sunrisers Hyderabad            2906\n",
      "Name: batsman_runs, dtype: int64\n"
     ]
    }
   ],
   "source": [
    "# Total runs made by each team in each year.\n",
    "\n",
    "team_runs_per_year = ipl_data.groupby(['year', 'batting_team'])['batsman_runs'].sum()\n",
    "print(team_runs_per_year.tail(10))"
   ]
  },
  {
   "cell_type": "code",
   "execution_count": 40,
   "id": "49654db5-1ce0-4b78-b508-9e18327b509b",
   "metadata": {},
   "outputs": [
    {
     "name": "stdout",
     "output_type": "stream",
     "text": [
      "batsman_runs\n",
      "Mumbai Indians                 143\n",
      "Chennai Super Kings            139\n",
      "Royal Challengers Bangalore    124\n",
      "Delhi Capitals                 123\n",
      "Kolkata Knight Riders          123\n",
      "Punjab Kings                   116\n",
      "Rajasthan Royals               113\n",
      "Sunrisers Hyderabad             84\n",
      "Deccan Chargers                 39\n",
      "Gujarat Titans                  22\n",
      "Lucknow Super Giants            20\n",
      "Rising Pune Supergiant          16\n",
      "Pune Warriors                   14\n",
      "Gujarat Lions                   14\n",
      "Kochi Tuskers Kerala             5\n",
      "Name: count, dtype: int64\n"
     ]
    }
   ],
   "source": [
    "# Total match wins for each team from 2008 to 2024.\n",
    "\n",
    "score_per_match = ipl_data.groupby(['matchId', 'batting_team'])['batsman_runs'].sum()\n",
    "match_winner = score_per_match.groupby('matchId').idxmax()\n",
    "winner_name = match_winner.apply(lambda x : x[1])\n",
    "wins = winner_name.value_counts()\n",
    "\n",
    "print(wins)"
   ]
  },
  {
   "cell_type": "code",
   "execution_count": 41,
   "id": "e7ea22ba-6c98-4ef6-984d-71d483ba016f",
   "metadata": {},
   "outputs": [],
   "source": [
    "# Total season wins for each team from 2008 to 2024.\n",
    "\n",
    "# score_per_season = ipl_data.groupby(['year', 'batting_team'])['batsman_runs'].idxmax().sum()\n",
    "# season_winner = score_per_match.groupby('year').idxmax()\n",
    "# season_winner_name = season_winner.apply(lambda x : x[1])\n",
    "# season_wins = season_winner_name.value_counts().sort_values(ascending = False)\n",
    "\n",
    "# print(season_wins)"
   ]
  },
  {
   "cell_type": "code",
   "execution_count": 42,
   "id": "f7d59beb-2795-461a-8fc0-bb492de17499",
   "metadata": {},
   "outputs": [
    {
     "name": "stdout",
     "output_type": "stream",
     "text": [
      "year\n",
      "2008    1865\n",
      "2009    2166\n",
      "2010    2272\n",
      "2011    2325\n",
      "2012    2351\n",
      "2013    2460\n",
      "2014    1992\n",
      "2015    2190\n",
      "2016    2863\n",
      "2017    1760\n",
      "2018    2240\n",
      "2019    2129\n",
      "2020    2169\n",
      "2021    2181\n",
      "2022    2454\n",
      "2023    2393\n",
      "2024    2789\n",
      "Name: batsman_runs, dtype: int64\n"
     ]
    }
   ],
   "source": [
    "# Runs made by RCB per year.\n",
    "\n",
    "RCB_data = ipl_data[ipl_data['batting_team'] == 'Royal Challengers Bangalore']\n",
    "RCB_runs = RCB_data.groupby('year')['batsman_runs'].sum()\n",
    "print(RCB_runs)"
   ]
  },
  {
   "cell_type": "code",
   "execution_count": 45,
   "id": "a467b269-c279-4f4d-ab25-41e2d4ff92b3",
   "metadata": {},
   "outputs": [
    {
     "data": {
      "application/vnd.plotly.v1+json": {
       "config": {
        "plotlyServerURL": "https://plot.ly"
       },
       "data": [
        {
         "hovertemplate": "Year=%{x}<br>Runs=%{y}<extra></extra>",
         "legendgroup": "",
         "line": {
          "color": "red",
          "dash": "solid"
         },
         "marker": {
          "color": "red",
          "symbol": "circle"
         },
         "mode": "lines+markers",
         "name": "",
         "orientation": "v",
         "showlegend": false,
         "type": "scatter",
         "x": {
          "bdata": "2AcAANkHAADaBwAA2wcAANwHAADdBwAA3gcAAN8HAADgBwAA4QcAAOIHAADjBwAA5AcAAOUHAADmBwAA5wcAAOgHAAA=",
          "dtype": "i4"
         },
         "xaxis": "x",
         "y": {
          "bdata": "SQd2COAIFQkvCZwJyAeOCC8L4AbACFEIeQiFCJYJWQnlCg==",
          "dtype": "i2"
         },
         "yaxis": "y"
        }
       ],
       "layout": {
        "bargap": 0.05,
        "height": 600,
        "legend": {
         "tracegroupgap": 0
        },
        "template": {
         "data": {
          "bar": [
           {
            "error_x": {
             "color": "#2a3f5f"
            },
            "error_y": {
             "color": "#2a3f5f"
            },
            "marker": {
             "line": {
              "color": "#E5ECF6",
              "width": 0.5
             },
             "pattern": {
              "fillmode": "overlay",
              "size": 10,
              "solidity": 0.2
             }
            },
            "type": "bar"
           }
          ],
          "barpolar": [
           {
            "marker": {
             "line": {
              "color": "#E5ECF6",
              "width": 0.5
             },
             "pattern": {
              "fillmode": "overlay",
              "size": 10,
              "solidity": 0.2
             }
            },
            "type": "barpolar"
           }
          ],
          "carpet": [
           {
            "aaxis": {
             "endlinecolor": "#2a3f5f",
             "gridcolor": "white",
             "linecolor": "white",
             "minorgridcolor": "white",
             "startlinecolor": "#2a3f5f"
            },
            "baxis": {
             "endlinecolor": "#2a3f5f",
             "gridcolor": "white",
             "linecolor": "white",
             "minorgridcolor": "white",
             "startlinecolor": "#2a3f5f"
            },
            "type": "carpet"
           }
          ],
          "choropleth": [
           {
            "colorbar": {
             "outlinewidth": 0,
             "ticks": ""
            },
            "type": "choropleth"
           }
          ],
          "contour": [
           {
            "colorbar": {
             "outlinewidth": 0,
             "ticks": ""
            },
            "colorscale": [
             [
              0,
              "#0d0887"
             ],
             [
              0.1111111111111111,
              "#46039f"
             ],
             [
              0.2222222222222222,
              "#7201a8"
             ],
             [
              0.3333333333333333,
              "#9c179e"
             ],
             [
              0.4444444444444444,
              "#bd3786"
             ],
             [
              0.5555555555555556,
              "#d8576b"
             ],
             [
              0.6666666666666666,
              "#ed7953"
             ],
             [
              0.7777777777777778,
              "#fb9f3a"
             ],
             [
              0.8888888888888888,
              "#fdca26"
             ],
             [
              1,
              "#f0f921"
             ]
            ],
            "type": "contour"
           }
          ],
          "contourcarpet": [
           {
            "colorbar": {
             "outlinewidth": 0,
             "ticks": ""
            },
            "type": "contourcarpet"
           }
          ],
          "heatmap": [
           {
            "colorbar": {
             "outlinewidth": 0,
             "ticks": ""
            },
            "colorscale": [
             [
              0,
              "#0d0887"
             ],
             [
              0.1111111111111111,
              "#46039f"
             ],
             [
              0.2222222222222222,
              "#7201a8"
             ],
             [
              0.3333333333333333,
              "#9c179e"
             ],
             [
              0.4444444444444444,
              "#bd3786"
             ],
             [
              0.5555555555555556,
              "#d8576b"
             ],
             [
              0.6666666666666666,
              "#ed7953"
             ],
             [
              0.7777777777777778,
              "#fb9f3a"
             ],
             [
              0.8888888888888888,
              "#fdca26"
             ],
             [
              1,
              "#f0f921"
             ]
            ],
            "type": "heatmap"
           }
          ],
          "histogram": [
           {
            "marker": {
             "pattern": {
              "fillmode": "overlay",
              "size": 10,
              "solidity": 0.2
             }
            },
            "type": "histogram"
           }
          ],
          "histogram2d": [
           {
            "colorbar": {
             "outlinewidth": 0,
             "ticks": ""
            },
            "colorscale": [
             [
              0,
              "#0d0887"
             ],
             [
              0.1111111111111111,
              "#46039f"
             ],
             [
              0.2222222222222222,
              "#7201a8"
             ],
             [
              0.3333333333333333,
              "#9c179e"
             ],
             [
              0.4444444444444444,
              "#bd3786"
             ],
             [
              0.5555555555555556,
              "#d8576b"
             ],
             [
              0.6666666666666666,
              "#ed7953"
             ],
             [
              0.7777777777777778,
              "#fb9f3a"
             ],
             [
              0.8888888888888888,
              "#fdca26"
             ],
             [
              1,
              "#f0f921"
             ]
            ],
            "type": "histogram2d"
           }
          ],
          "histogram2dcontour": [
           {
            "colorbar": {
             "outlinewidth": 0,
             "ticks": ""
            },
            "colorscale": [
             [
              0,
              "#0d0887"
             ],
             [
              0.1111111111111111,
              "#46039f"
             ],
             [
              0.2222222222222222,
              "#7201a8"
             ],
             [
              0.3333333333333333,
              "#9c179e"
             ],
             [
              0.4444444444444444,
              "#bd3786"
             ],
             [
              0.5555555555555556,
              "#d8576b"
             ],
             [
              0.6666666666666666,
              "#ed7953"
             ],
             [
              0.7777777777777778,
              "#fb9f3a"
             ],
             [
              0.8888888888888888,
              "#fdca26"
             ],
             [
              1,
              "#f0f921"
             ]
            ],
            "type": "histogram2dcontour"
           }
          ],
          "mesh3d": [
           {
            "colorbar": {
             "outlinewidth": 0,
             "ticks": ""
            },
            "type": "mesh3d"
           }
          ],
          "parcoords": [
           {
            "line": {
             "colorbar": {
              "outlinewidth": 0,
              "ticks": ""
             }
            },
            "type": "parcoords"
           }
          ],
          "pie": [
           {
            "automargin": true,
            "type": "pie"
           }
          ],
          "scatter": [
           {
            "fillpattern": {
             "fillmode": "overlay",
             "size": 10,
             "solidity": 0.2
            },
            "type": "scatter"
           }
          ],
          "scatter3d": [
           {
            "line": {
             "colorbar": {
              "outlinewidth": 0,
              "ticks": ""
             }
            },
            "marker": {
             "colorbar": {
              "outlinewidth": 0,
              "ticks": ""
             }
            },
            "type": "scatter3d"
           }
          ],
          "scattercarpet": [
           {
            "marker": {
             "colorbar": {
              "outlinewidth": 0,
              "ticks": ""
             }
            },
            "type": "scattercarpet"
           }
          ],
          "scattergeo": [
           {
            "marker": {
             "colorbar": {
              "outlinewidth": 0,
              "ticks": ""
             }
            },
            "type": "scattergeo"
           }
          ],
          "scattergl": [
           {
            "marker": {
             "colorbar": {
              "outlinewidth": 0,
              "ticks": ""
             }
            },
            "type": "scattergl"
           }
          ],
          "scattermap": [
           {
            "marker": {
             "colorbar": {
              "outlinewidth": 0,
              "ticks": ""
             }
            },
            "type": "scattermap"
           }
          ],
          "scattermapbox": [
           {
            "marker": {
             "colorbar": {
              "outlinewidth": 0,
              "ticks": ""
             }
            },
            "type": "scattermapbox"
           }
          ],
          "scatterpolar": [
           {
            "marker": {
             "colorbar": {
              "outlinewidth": 0,
              "ticks": ""
             }
            },
            "type": "scatterpolar"
           }
          ],
          "scatterpolargl": [
           {
            "marker": {
             "colorbar": {
              "outlinewidth": 0,
              "ticks": ""
             }
            },
            "type": "scatterpolargl"
           }
          ],
          "scatterternary": [
           {
            "marker": {
             "colorbar": {
              "outlinewidth": 0,
              "ticks": ""
             }
            },
            "type": "scatterternary"
           }
          ],
          "surface": [
           {
            "colorbar": {
             "outlinewidth": 0,
             "ticks": ""
            },
            "colorscale": [
             [
              0,
              "#0d0887"
             ],
             [
              0.1111111111111111,
              "#46039f"
             ],
             [
              0.2222222222222222,
              "#7201a8"
             ],
             [
              0.3333333333333333,
              "#9c179e"
             ],
             [
              0.4444444444444444,
              "#bd3786"
             ],
             [
              0.5555555555555556,
              "#d8576b"
             ],
             [
              0.6666666666666666,
              "#ed7953"
             ],
             [
              0.7777777777777778,
              "#fb9f3a"
             ],
             [
              0.8888888888888888,
              "#fdca26"
             ],
             [
              1,
              "#f0f921"
             ]
            ],
            "type": "surface"
           }
          ],
          "table": [
           {
            "cells": {
             "fill": {
              "color": "#EBF0F8"
             },
             "line": {
              "color": "white"
             }
            },
            "header": {
             "fill": {
              "color": "#C8D4E3"
             },
             "line": {
              "color": "white"
             }
            },
            "type": "table"
           }
          ]
         },
         "layout": {
          "annotationdefaults": {
           "arrowcolor": "#2a3f5f",
           "arrowhead": 0,
           "arrowwidth": 1
          },
          "autotypenumbers": "strict",
          "coloraxis": {
           "colorbar": {
            "outlinewidth": 0,
            "ticks": ""
           }
          },
          "colorscale": {
           "diverging": [
            [
             0,
             "#8e0152"
            ],
            [
             0.1,
             "#c51b7d"
            ],
            [
             0.2,
             "#de77ae"
            ],
            [
             0.3,
             "#f1b6da"
            ],
            [
             0.4,
             "#fde0ef"
            ],
            [
             0.5,
             "#f7f7f7"
            ],
            [
             0.6,
             "#e6f5d0"
            ],
            [
             0.7,
             "#b8e186"
            ],
            [
             0.8,
             "#7fbc41"
            ],
            [
             0.9,
             "#4d9221"
            ],
            [
             1,
             "#276419"
            ]
           ],
           "sequential": [
            [
             0,
             "#0d0887"
            ],
            [
             0.1111111111111111,
             "#46039f"
            ],
            [
             0.2222222222222222,
             "#7201a8"
            ],
            [
             0.3333333333333333,
             "#9c179e"
            ],
            [
             0.4444444444444444,
             "#bd3786"
            ],
            [
             0.5555555555555556,
             "#d8576b"
            ],
            [
             0.6666666666666666,
             "#ed7953"
            ],
            [
             0.7777777777777778,
             "#fb9f3a"
            ],
            [
             0.8888888888888888,
             "#fdca26"
            ],
            [
             1,
             "#f0f921"
            ]
           ],
           "sequentialminus": [
            [
             0,
             "#0d0887"
            ],
            [
             0.1111111111111111,
             "#46039f"
            ],
            [
             0.2222222222222222,
             "#7201a8"
            ],
            [
             0.3333333333333333,
             "#9c179e"
            ],
            [
             0.4444444444444444,
             "#bd3786"
            ],
            [
             0.5555555555555556,
             "#d8576b"
            ],
            [
             0.6666666666666666,
             "#ed7953"
            ],
            [
             0.7777777777777778,
             "#fb9f3a"
            ],
            [
             0.8888888888888888,
             "#fdca26"
            ],
            [
             1,
             "#f0f921"
            ]
           ]
          },
          "colorway": [
           "#636efa",
           "#EF553B",
           "#00cc96",
           "#ab63fa",
           "#FFA15A",
           "#19d3f3",
           "#FF6692",
           "#B6E880",
           "#FF97FF",
           "#FECB52"
          ],
          "font": {
           "color": "#2a3f5f"
          },
          "geo": {
           "bgcolor": "white",
           "lakecolor": "white",
           "landcolor": "#E5ECF6",
           "showlakes": true,
           "showland": true,
           "subunitcolor": "white"
          },
          "hoverlabel": {
           "align": "left"
          },
          "hovermode": "closest",
          "mapbox": {
           "style": "light"
          },
          "paper_bgcolor": "white",
          "plot_bgcolor": "#E5ECF6",
          "polar": {
           "angularaxis": {
            "gridcolor": "white",
            "linecolor": "white",
            "ticks": ""
           },
           "bgcolor": "#E5ECF6",
           "radialaxis": {
            "gridcolor": "white",
            "linecolor": "white",
            "ticks": ""
           }
          },
          "scene": {
           "xaxis": {
            "backgroundcolor": "#E5ECF6",
            "gridcolor": "white",
            "gridwidth": 2,
            "linecolor": "white",
            "showbackground": true,
            "ticks": "",
            "zerolinecolor": "white"
           },
           "yaxis": {
            "backgroundcolor": "#E5ECF6",
            "gridcolor": "white",
            "gridwidth": 2,
            "linecolor": "white",
            "showbackground": true,
            "ticks": "",
            "zerolinecolor": "white"
           },
           "zaxis": {
            "backgroundcolor": "#E5ECF6",
            "gridcolor": "white",
            "gridwidth": 2,
            "linecolor": "white",
            "showbackground": true,
            "ticks": "",
            "zerolinecolor": "white"
           }
          },
          "shapedefaults": {
           "line": {
            "color": "#2a3f5f"
           }
          },
          "ternary": {
           "aaxis": {
            "gridcolor": "white",
            "linecolor": "white",
            "ticks": ""
           },
           "baxis": {
            "gridcolor": "white",
            "linecolor": "white",
            "ticks": ""
           },
           "bgcolor": "#E5ECF6",
           "caxis": {
            "gridcolor": "white",
            "linecolor": "white",
            "ticks": ""
           }
          },
          "title": {
           "x": 0.05
          },
          "xaxis": {
           "automargin": true,
           "gridcolor": "white",
           "linecolor": "white",
           "ticks": "",
           "title": {
            "standoff": 15
           },
           "zerolinecolor": "white",
           "zerolinewidth": 2
          },
          "yaxis": {
           "automargin": true,
           "gridcolor": "white",
           "linecolor": "white",
           "ticks": "",
           "title": {
            "standoff": 15
           },
           "zerolinecolor": "white",
           "zerolinewidth": 2
          }
         }
        },
        "title": {
         "text": "Total Runs by RCB per year"
        },
        "width": 800,
        "xaxis": {
         "anchor": "y",
         "domain": [
          0,
          1
         ],
         "tickangle": -45,
         "title": {
          "text": "Year"
         }
        },
        "yaxis": {
         "anchor": "x",
         "domain": [
          0,
          1
         ],
         "title": {
          "text": "Runs"
         }
        }
       }
      },
      "image/png": "[encoded data removed]"
     },
     "metadata": {},
     "output_type": "display_data"
    }
   ],
   "source": [
    "data = {\n",
    "    'Year' : RCB_runs.head(17).index,\n",
    "    'Runs' : RCB_runs.head(17).values\n",
    "}\n",
    "\n",
    "df = pd.DataFrame(data)\n",
    "\n",
    "fig = px.line(\n",
    "    df,\n",
    "    x='Year',\n",
    "    y='Runs',\n",
    "    title='Total Runs by RCB per year',\n",
    "    markers = True\n",
    ")\n",
    "\n",
    "fig.update_xaxes(tickangle = -45)\n",
    "fig.update_traces(marker_color = 'red', line_color='red')\n",
    "fig.update_layout(width = 800, height = 600, bargap = 0.05)\n",
    "fig.show()"
   ]
  }
 ],
 "metadata": {
  "kernelspec": {
   "display_name": "Python 3 (ipykernel)",
   "language": "python",
   "name": "python3"
  },
  "language_info": {
   "codemirror_mode": {
    "name": "ipython",
    "version": 3
   },
   "file_extension": ".py",
   "mimetype": "text/x-python",
   "name": "python",
   "nbconvert_exporter": "python",
   "pygments_lexer": "ipython3",
   "version": "3.13.5"
  }
 },
 "nbformat": 4,
 "nbformat_minor": 5
}
